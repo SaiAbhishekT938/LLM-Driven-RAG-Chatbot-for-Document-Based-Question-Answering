{
 "cells": [
  {
   "cell_type": "code",
   "execution_count": null,
   "id": "1a0ce86a-9588-46a9-ac6d-73fa50c89bba",
   "metadata": {},
   "outputs": [],
   "source": [
    "%pip install -U langgraph"
   ]
  },
  {
   "cell_type": "code",
   "execution_count": null,
   "id": "cf746d8b-0235-4169-b486-e10d00d75186",
   "metadata": {},
   "outputs": [],
   "source": [
    "!pip install -U langchain-ollama"
   ]
  },
  {
   "cell_type": "code",
   "execution_count": null,
   "id": "bc3307c2-4d23-4bd8-9b59-1bbfd3066685",
   "metadata": {},
   "outputs": [],
   "source": [
    "!pip install -U langchain-huggingface"
   ]
  },
  {
   "cell_type": "code",
   "execution_count": null,
   "id": "8abf7e66-cf6e-4ed2-803b-17bb8809d35c",
   "metadata": {},
   "outputs": [],
   "source": [
    "!pip install pypdf"
   ]
  },
  {
   "cell_type": "code",
   "execution_count": null,
   "id": "9dc6e17d-b378-4728-a2ad-01c2541c2d98",
   "metadata": {},
   "outputs": [],
   "source": []
  },
  {
   "cell_type": "code",
   "execution_count": null,
   "id": "19bfa2cd-674d-46f5-a4ce-8228e23ef7b7",
   "metadata": {},
   "outputs": [],
   "source": [
    "######"
   ]
  },
  {
   "cell_type": "code",
   "execution_count": null,
   "id": "034398ff-54c7-4be0-80e7-9fb1f617f450",
   "metadata": {},
   "outputs": [],
   "source": [
    "!pip show langgraph"
   ]
  },
  {
   "cell_type": "code",
   "execution_count": 10,
   "id": "d1c78e2d-f7d1-4281-81ad-5e3c946f1a3d",
   "metadata": {},
   "outputs": [
    {
     "data": {
      "text/plain": [
       "['__annotations__',\n",
       " '__class__',\n",
       " '__delattr__',\n",
       " '__dict__',\n",
       " '__dir__',\n",
       " '__doc__',\n",
       " '__eq__',\n",
       " '__format__',\n",
       " '__ge__',\n",
       " '__getattribute__',\n",
       " '__getstate__',\n",
       " '__gt__',\n",
       " '__hash__',\n",
       " '__init__',\n",
       " '__init_subclass__',\n",
       " '__le__',\n",
       " '__lt__',\n",
       " '__module__',\n",
       " '__ne__',\n",
       " '__new__',\n",
       " '__reduce__',\n",
       " '__reduce_ex__',\n",
       " '__repr__',\n",
       " '__setattr__',\n",
       " '__sizeof__',\n",
       " '__str__',\n",
       " '__subclasshook__',\n",
       " '__weakref__',\n",
       " '_add_schema',\n",
       " '_all_edges',\n",
       " 'add_conditional_edges',\n",
       " 'add_edge',\n",
       " 'add_node',\n",
       " 'add_sequence',\n",
       " 'compile',\n",
       " 'set_conditional_entry_point',\n",
       " 'set_entry_point',\n",
       " 'set_finish_point',\n",
       " 'validate']"
      ]
     },
     "execution_count": 10,
     "metadata": {},
     "output_type": "execute_result"
    }
   ],
   "source": [
    "dir(langgraph.graph.StateGraph)"
   ]
  },
  {
   "cell_type": "code",
   "execution_count": 10,
   "id": "93066c93-a023-4340-8301-a448001807f7",
   "metadata": {},
   "outputs": [
    {
     "data": {
      "text/plain": [
       "['END',\n",
       " 'Graph',\n",
       " 'MessageGraph',\n",
       " 'MessagesState',\n",
       " 'START',\n",
       " 'StateGraph',\n",
       " '__all__',\n",
       " '__builtins__',\n",
       " '__cached__',\n",
       " '__doc__',\n",
       " '__file__',\n",
       " '__loader__',\n",
       " '__name__',\n",
       " '__package__',\n",
       " '__path__',\n",
       " '__spec__',\n",
       " 'add_messages',\n",
       " 'graph',\n",
       " 'message',\n",
       " 'state']"
      ]
     },
     "execution_count": 10,
     "metadata": {},
     "output_type": "execute_result"
    }
   ],
   "source": [
    "dir(langgraph.graph)"
   ]
  },
  {
   "cell_type": "code",
   "execution_count": 18,
   "id": "05467f57-df2a-4bb6-808e-559d77d5cb87",
   "metadata": {
    "scrolled": true
   },
   "outputs": [
    {
     "data": {
      "text/plain": [
       "['__class__',\n",
       " '__delattr__',\n",
       " '__dict__',\n",
       " '__dir__',\n",
       " '__doc__',\n",
       " '__eq__',\n",
       " '__format__',\n",
       " '__ge__',\n",
       " '__getattribute__',\n",
       " '__getstate__',\n",
       " '__gt__',\n",
       " '__hash__',\n",
       " '__init__',\n",
       " '__init_subclass__',\n",
       " '__le__',\n",
       " '__lt__',\n",
       " '__module__',\n",
       " '__ne__',\n",
       " '__new__',\n",
       " '__reduce__',\n",
       " '__reduce_ex__',\n",
       " '__repr__',\n",
       " '__setattr__',\n",
       " '__sizeof__',\n",
       " '__str__',\n",
       " '__subclasshook__',\n",
       " '__weakref__',\n",
       " '_all_edges',\n",
       " 'add_conditional_edges',\n",
       " 'add_edge',\n",
       " 'add_node',\n",
       " 'compile',\n",
       " 'set_conditional_entry_point',\n",
       " 'set_entry_point',\n",
       " 'set_finish_point',\n",
       " 'validate']"
      ]
     },
     "execution_count": 18,
     "metadata": {},
     "output_type": "execute_result"
    }
   ],
   "source": [
    "dir(langgraph.graph.Graph)"
   ]
  },
  {
   "cell_type": "code",
   "execution_count": null,
   "id": "9f67ab2a-7b99-4845-8b92-61894b1d25af",
   "metadata": {},
   "outputs": [],
   "source": [
    "######"
   ]
  },
  {
   "cell_type": "code",
   "execution_count": null,
   "id": "6197ff90-3189-46f8-b41a-2640de28b6aa",
   "metadata": {},
   "outputs": [],
   "source": []
  },
  {
   "cell_type": "code",
   "execution_count": 1,
   "id": "98d84e72-a97f-48f2-81d4-dce04adfb930",
   "metadata": {},
   "outputs": [],
   "source": [
    "import langgraph\n",
    "from langgraph import graph"
   ]
  },
  {
   "cell_type": "code",
   "execution_count": 3,
   "id": "a6ca1191-e5f6-412a-b1ab-d44251217d4e",
   "metadata": {},
   "outputs": [
    {
     "data": {
      "image/png": "[encoded data removed]",
      "text/plain": [
       "<langgraph.graph.state.CompiledStateGraph object at 0x0000019A1B2B7800>"
      ]
     },
     "execution_count": 3,
     "metadata": {},
     "output_type": "execute_result"
    }
   ],
   "source": [
    "import openai\n",
    "from langgraph.graph import StateGraph, START, END\n",
    "from typing_extensions import TypedDict, Annotated\n",
    "from langchain.prompts import PromptTemplate\n",
    "from langchain.document_loaders import PyPDFLoader\n",
    "from langchain.text_splitter import RecursiveCharacterTextSplitter\n",
    "from langchain.vectorstores import FAISS\n",
    "from langchain_huggingface import HuggingFaceEmbeddings\n",
    "import os\n",
    "\n",
    "# Step 1: Configure OpenAI Client\n",
    "client = openai.OpenAI(\n",
    "    base_url='http://localhost:11434/v1',\n",
    "    api_key='ollama'\n",
    ")\n",
    "\n",
    "MODEL = \"llama3.2:latest\"\n",
    "\n",
    "# Step 2: Define State\n",
    "class OverallState(TypedDict):\n",
    "    query: str\n",
    "    messages: list[dict]  # To store all interactions\n",
    "    full_query: str\n",
    "    document_context: str\n",
    "    temp_response: str\n",
    "\n",
    "# Step 3: Interpreter NODE\n",
    "def interpreter_node(state: OverallState) -> OverallState:\n",
    "    \"\"\"Interpret the query and classify the intent.\"\"\"\n",
    "    query = state[\"query\"]\n",
    "    prompt = f\"\"\"\n",
    "        Your task is to classify the intent of the user query into one of the following categories: [greeting, rag_request].\n",
    "        The final response or classification should be just the word, nothing else.\n",
    "\n",
    "        Intent Definitions:\n",
    "        - greeting: If the Query is simply a greeting from the user.\n",
    "        - rag_request: If the Query is potentially a domain related query.\n",
    "\n",
    "        User Query: {query}\n",
    "        Intent Classifier:\n",
    "    \"\"\"\n",
    "    response = client.chat.completions.create(\n",
    "        model=MODEL,\n",
    "        messages=[\n",
    "            {\"role\": \"system\", \"content\": \"You are an intent classifier bot.\"},\n",
    "            {\"role\": \"user\", \"content\": prompt}\n",
    "        ],\n",
    "        temperature=0\n",
    "    )\n",
    "\n",
    "    gen_response = response.choices[0].message.content\n",
    "    state[\"temp_response\"] = gen_response\n",
    "#    state[\"messages\"].append({\"role\": \"user\", \"content\": query})\n",
    "    \n",
    "    return state\n",
    "\n",
    "# Step 4: Greeting Response NODE\n",
    "def greeting_response_node(state: OverallState) -> OverallState:\n",
    "    \"\"\"Respond to the greeting from the user.\"\"\"\n",
    "    query = state[\"query\"]\n",
    "    prompt = f\"\"\"\n",
    "        You are an AI Assistant Chatbot here to assist users. Respond to the user's greeting \n",
    "        appropriately and ask how you may help them.\n",
    "\n",
    "        User Greeting: {query}\n",
    "        AI Assistant:\n",
    "    \"\"\"\n",
    "    response = client.chat.completions.create(\n",
    "        model=MODEL,\n",
    "        messages=[\n",
    "            {\"role\": \"system\", \"content\": \"You are a helpful AI assistant.\"},\n",
    "            {\"role\": \"user\", \"content\": prompt}\n",
    "        ],\n",
    "        temperature=0\n",
    "    )\n",
    "    \n",
    "    gen_response = response.choices[0].message.content\n",
    "    state[\"messages\"].append({\"role\": \"assistant\", \"content\": gen_response})\n",
    "    state[\"temp_response\"] = gen_response\n",
    "    \n",
    "    return state\n",
    "\n",
    "# Step 5: Local Document Loader\n",
    "def load_local_documents(folder_path):\n",
    "    \"\"\"Load all PDF files from a folder as documents.\"\"\"\n",
    "    documents = []\n",
    "    for file_name in os.listdir(folder_path):\n",
    "        if file_name.endswith(\".pdf\"):\n",
    "            loader = PyPDFLoader(os.path.join(folder_path, file_name))\n",
    "            documents.extend(loader.load())\n",
    "            \n",
    "    return documents\n",
    "\n",
    "# Step 6: Process and Index Documents\n",
    "def create_document_store(folder_path):\n",
    "    \"\"\"Create a FAISS-based document store from local documents.\"\"\"\n",
    "    documents = load_local_documents(folder_path)\n",
    "    text_splitter = RecursiveCharacterTextSplitter(chunk_size=500, chunk_overlap=100)\n",
    "    texts = text_splitter.split_documents(documents)\n",
    "    embedding_model = HuggingFaceEmbeddings(model_name=\"sentence-transformers/all-MiniLM-L6-v2\")\n",
    "    vectorstore = FAISS.from_documents(texts, embedding_model)\n",
    "    \n",
    "    return vectorstore\n",
    "\n",
    "# Initialize document store\n",
    "current_directory = os.getcwd()\n",
    "document_store = create_document_store(folder_path=current_directory)\n",
    "\n",
    "# Step 7: Document Retrieval NODE\n",
    "def retrieve_documents_node(state: OverallState) -> OverallState:\n",
    "    \"\"\"Retrieve documents based on query.\"\"\"\n",
    "    documents = document_store.similarity_search(state[\"query\"], k=5)\n",
    "\n",
    "    # Combine document contents into a single string\n",
    "    document_context = \"\\n\".join(doc.page_content for doc in documents)\n",
    "    \n",
    "    state[\"document_context\"] = document_context\n",
    "    \n",
    "    return state\n",
    "\n",
    "# Step 8: Generate Paths and Consistency Check NODE\n",
    "def generate_multiple_paths_and_check_consistency_node(state: OverallState) -> OverallState:\n",
    "    \"\"\"Generate multiple reasoning paths and aggregate results.\"\"\"\n",
    "    paths = []\n",
    "    query = state[\"query\"]\n",
    "    document_context = state[\"document_context\"]\n",
    "    full_query = state[\"full_query\"]\n",
    "\n",
    "    for i in range(3):  # Generate 3 reasoning paths\n",
    "        prompt = f\"\"\"\n",
    "            Solve the following problem using a unique approach (Reasoning Path {i + 1}):\n",
    "            Problem/Query: {query}\n",
    "            Documents: {document_context}\n",
    "            Chat History: {full_query}\n",
    "            Reasoning Path {i + 1}:\n",
    "        \"\"\"\n",
    "        response = client.chat.completions.create(\n",
    "            model=MODEL,\n",
    "            messages=[\n",
    "                {\"role\": \"system\", \"content\": \"You are a reasoning AI assistant.\"},\n",
    "                {\"role\": \"user\", \"content\": prompt}\n",
    "            ],\n",
    "            temperature=0.7\n",
    "        )\n",
    "        \n",
    "        paths.append(response.choices[0].message.content)\n",
    "\n",
    "    # Aggregate reasoning paths\n",
    "    aggregate_prompt = f\"\"\"\n",
    "        Analyze the following reasoning paths and determine the most consistent answer:\n",
    "        Reasoning Paths:\n",
    "        {\"\\n\".join(paths)}\n",
    "\n",
    "        Most consistent answer with criticisms:\n",
    "    \"\"\"\n",
    "    response = client.chat.completions.create(\n",
    "        model=MODEL,\n",
    "        messages=[\n",
    "            {\"role\": \"system\", \"content\": \"You are a critical reasoning evaluator.\"},\n",
    "            {\"role\": \"user\", \"content\": aggregate_prompt}\n",
    "        ],\n",
    "        temperature=0\n",
    "    )\n",
    "    \n",
    "    state[\"temp_response\"] = response.choices[0].message.content\n",
    "    \n",
    "    return state\n",
    "\n",
    "# Step 8.5: Self-Reflection NODE\n",
    "def self_reflection_node(state: OverallState) -> OverallState:\n",
    "    \"\"\"Perform self-reflection on the generated response.\"\"\"\n",
    "    query = state[\"query\"]\n",
    "    temp_response = state[\"temp_response\"]\n",
    "\n",
    "    prompt = f\"\"\"\n",
    "        Problem/Query: {query}\n",
    "        Generated Answer: {temp_response}\n",
    "\n",
    "        Critique and improve the answer by analyzing its accuracy, relevance, and completeness.\n",
    "        Provide the improved answer along with reasoning for changes made:\n",
    "    \"\"\"\n",
    "    response = client.chat.completions.create(\n",
    "        model=MODEL,\n",
    "        messages=[\n",
    "            {\"role\": \"system\", \"content\": \"You are a self-reflective AI focused on improving responses.\"},\n",
    "            {\"role\": \"user\", \"content\": prompt}\n",
    "        ],\n",
    "        temperature=0\n",
    "    )\n",
    "\n",
    "    improved_response = response.choices[0].message.content\n",
    "    state[\"temp_response\"] = improved_response\n",
    "#    state[\"messages\"].append({\"role\": \"assistant\", \"content\": improved_response})\n",
    "\n",
    "    return state\n",
    "\n",
    "# Step 9: Post-Processing NODE\n",
    "def post_processing_node(state: OverallState) -> OverallState:\n",
    "    \"\"\"Post-process the final answer for user presentation.\"\"\"\n",
    "    query = state[\"query\"]\n",
    "    final_answer = state[\"temp_response\"]\n",
    "\n",
    "    prompt = f\"\"\"\n",
    "        Problem/Query: {query}\n",
    "        Raw Answer: {final_answer}\n",
    "\n",
    "        Provide a polished and user-friendly response:\n",
    "    \"\"\"\n",
    "    response = client.chat.completions.create(\n",
    "        model=MODEL,\n",
    "        messages=[\n",
    "            {\"role\": \"system\", \"content\": \"You are an assistant specializing in response refinement.\"},\n",
    "            {\"role\": \"user\", \"content\": prompt}\n",
    "        ],\n",
    "        temperature=0\n",
    "    )\n",
    "    \n",
    "    polished_response = response.choices[0].message.content\n",
    "    state[\"messages\"].append({\"role\": \"assistant\", \"content\": polished_response})\n",
    "\n",
    "    #creating full_query\n",
    "    context = \"\\n\".join(\n",
    "        f\"{msg['role'].capitalize()}: {msg['content']}\" for msg in state[\"messages\"]\n",
    "    )\n",
    "    \n",
    "    full_query = f\"{context}\" if context else state['query']\n",
    "    state[\"full_query\"] = full_query\n",
    "    \n",
    "    return state\n",
    "\n",
    "# Step 10: Define Workflow Using LangGraph (Updated with Self-Reflection Node)\n",
    "graph = StateGraph(OverallState)\n",
    "graph.add_node(\"interpreter\", interpreter_node)\n",
    "graph.add_node(\"greeting_response\", greeting_response_node)\n",
    "graph.add_node(\"retrieve_documents\", retrieve_documents_node)\n",
    "graph.add_node(\"generate_paths_and_consistency_check\", generate_multiple_paths_and_check_consistency_node)\n",
    "graph.add_node(\"self_reflection\", self_reflection_node)  # New Node\n",
    "graph.add_node(\"post_processing\", post_processing_node)\n",
    "\n",
    "graph.add_edge(START, \"interpreter\")\n",
    "graph.add_conditional_edges(\n",
    "    source=\"interpreter\",\n",
    "    path=lambda state: state[\"temp_response\"],\n",
    "    path_map={\"greeting\": \"greeting_response\", \"rag_request\": \"retrieve_documents\"}\n",
    ")\n",
    "graph.add_edge(\"greeting_response\", END)\n",
    "graph.add_edge(\"retrieve_documents\", \"generate_paths_and_consistency_check\")\n",
    "graph.add_edge(\"generate_paths_and_consistency_check\", \"self_reflection\")  # Add self-reflection here\n",
    "graph.add_edge(\"self_reflection\", \"post_processing\")  # Route through self-reflection\n",
    "graph.add_edge(\"post_processing\", END)\n",
    "\n",
    "# Compile the graph\n",
    "graph.compile()"
   ]
  },
  {
   "cell_type": "code",
   "execution_count": null,
   "id": "a653fec6-3558-45e4-acb5-92d408be0d80",
   "metadata": {
    "scrolled": true
   },
   "outputs": [
    {
     "name": "stdout",
     "output_type": "stream",
     "text": [
      "==========================================================================================================================================================================================================================================================\n"
     ]
    },
    {
     "name": "stdin",
     "output_type": "stream",
     "text": [
      "\n",
      "Enter your query (type 'exit' to quit): \n",
      " Hello\n"
     ]
    },
    {
     "name": "stdout",
     "output_type": "stream",
     "text": [
      "\n",
      "\n",
      "==========================================================================================================================================================================================================================================================\n",
      "\n",
      "AI Assistant: \n",
      "\n",
      "Hello! It's nice to meet you. How can I assist you today? Do you have a specific question, need help with something, or just want to chat? I'm here to listen and provide assistance. What's on your mind?\n",
      "\n",
      "==========================================================================================================================================================================================================================================================\n"
     ]
    },
    {
     "name": "stdin",
     "output_type": "stream",
     "text": [
      "\n",
      "Enter your query (type 'exit' to quit): \n",
      " What are transformers?\n"
     ]
    },
    {
     "name": "stdout",
     "output_type": "stream",
     "text": [
      "\n",
      "\n",
      "==========================================================================================================================================================================================================================================================\n",
      "\n",
      "AI Assistant: \n",
      "\n",
      "**Transformers: A Comprehensive Overview**\n",
      "\n",
      "Transformers are a type of neural network architecture that has revolutionized the field of natural language processing (NLP) and computer vision. Introduced in 2017 by Vaswani et al. in their paper \"Attention is All You Need,\" transformers have become a cornerstone of modern deep learning.\n",
      "\n",
      "**How Transformers Work:**\n",
      "\n",
      "Traditional recurrent neural networks (RNNs) struggle with long-range dependencies in input data, as they process information sequentially from left to right. In contrast, transformers use self-attention mechanisms to capture complex relationships between input elements.\n",
      "\n",
      "The core idea behind transformers is to attend to all positions in the input sequence simultaneously and weigh their importance. This allows the model to capture both local and global dependencies in the input data.\n",
      "\n",
      "**Self-Attention Mechanism:**\n",
      "\n",
      "The self-attention mechanism is a key component of transformers. It consists of three main steps:\n",
      "\n",
      "1.  **Query**: The query vector is computed by taking the dot product of the input embedding with a learned weight matrix.\n",
      "2.  **Key**: The key vector is computed by taking the dot product of the input embedding with another learned weight matrix.\n",
      "3.  **Value**: The value vector is computed by taking the dot product of the input embedding with yet another learned weight matrix.\n",
      "\n",
      "The self-attention mechanism then computes a weighted sum of the value vectors based on the query and key vectors.\n",
      "\n",
      "**Benefits Over Traditional RNNs:**\n",
      "\n",
      "Transformers have several benefits over traditional RNNs, including:\n",
      "\n",
      "*   **Parallelization**: Transformers can be parallelized more easily than RNNs, making them faster to train.\n",
      "*   **Long-range dependencies**: Transformers can capture long-range dependencies in input data more effectively than RNNs.\n",
      "*   **Scalability**: Transformers can handle much larger input sequences than RNNs.\n",
      "\n",
      "**Applications:**\n",
      "\n",
      "Transformers have been widely adopted in various applications, including:\n",
      "\n",
      "*   **Natural Language Processing (NLP)**: Transformers have achieved state-of-the-art results in many NLP tasks, such as machine translation, question answering, and text classification.\n",
      "*   **Computer Vision**: Transformers have also been applied to computer vision tasks, such as image captioning and object detection.\n",
      "\n",
      "**Limitations:**\n",
      "\n",
      "While transformers have shown great promise, they also have some limitations. For example:\n",
      "\n",
      "*   **Computational complexity**: Transformers can be computationally expensive to train, especially for large input sequences.\n",
      "*   **Overfitting**: Transformers can suffer from overfitting if not regularized properly.\n",
      "\n",
      "**Recommendations:**\n",
      "\n",
      "1.  **Provide concrete examples**: Include specific case studies or examples to illustrate how transformers work in practice.\n",
      "2.  **Balance analogy with technical detail**: Use analogies to explain complex concepts, but also provide concrete technical details to support the claims.\n",
      "3.  **Offer a more comprehensive understanding**: Provide a deeper analysis of transformers, including their limitations and potential applications, to offer a more complete understanding of the subject matter.\n",
      "\n",
      "**Real-World Applications:**\n",
      "\n",
      "Transformers have been successfully applied in various real-world scenarios, such as:\n",
      "\n",
      "*   **Language Translation**: Transformers have achieved state-of-the-art results in machine translation tasks, enabling fast and accurate language translation.\n",
      "*   **Text Summarization**: Transformers can be used to summarize long documents into concise summaries, making it easier for users to quickly grasp the main points.\n",
      "\n",
      "**Future Directions:**\n",
      "\n",
      "As transformers continue to evolve, researchers are exploring new applications and techniques to further improve their performance. Some potential areas of research include:\n",
      "\n",
      "*   **Explainability**: Developing methods to explain how transformers make predictions can help improve trust in these models.\n",
      "*   **Efficient Training**: Investigating ways to train transformers more efficiently can lead to faster training times and better performance.\n",
      "\n",
      "By understanding the inner workings of transformers, we can unlock their full potential and harness their power to solve complex problems in NLP and computer vision.\n",
      "\n",
      "==========================================================================================================================================================================================================================================================\n"
     ]
    },
    {
     "name": "stdin",
     "output_type": "stream",
     "text": [
      "\n",
      "Enter your query (type 'exit' to quit): \n",
      " What is attention?\n"
     ]
    },
    {
     "name": "stdout",
     "output_type": "stream",
     "text": [
      "\n",
      "\n",
      "==========================================================================================================================================================================================================================================================\n",
      "\n",
      "AI Assistant: \n",
      "\n",
      "**Understanding Attention in Deep Learning**\n",
      "\n",
      "Attention is a fundamental concept in deep learning, particularly in transformer-based architectures. It refers to the process of focusing on specific parts of an input data sequence that are relevant for making predictions or taking actions. This mechanism allows models to weigh the importance of different input elements when generating outputs.\n",
      "\n",
      "**What is Self-Attention?**\n",
      "\n",
      "Self-attention is a type of attention mechanism that focuses on the relationships between different elements within an input sequence. It consists of three main components:\n",
      "\n",
      "1. **Query (Q)**: The query vector represents the model's understanding of what it wants to focus on.\n",
      "2. **Key (K)**: The key vector represents the model's understanding of what is relevant in the input data.\n",
      "3. **Value (V)**: The value vector represents the importance or relevance of each element in the input sequence.\n",
      "\n",
      "The self-attention mechanism computes a weighted sum of all possible pairs of query and key vectors, which are then used to compute the final output. This process allows models to selectively focus on specific parts of the input data that are relevant for making predictions.\n",
      "\n",
      "**Visualizing Attention**\n",
      "\n",
      "To better understand attention, consider the following analogy: Imagine you're on a scenic hike, and you want to find the most interesting features along the way. You can use your senses (e.g., sight, sound) to focus on specific aspects of your surroundings that catch your attention. Similarly, self-attention mechanisms in transformer models allow them to selectively focus on relevant input elements based on their relationships with other elements.\n",
      "\n",
      "**Real-World Applications**\n",
      "\n",
      "Attention mechanisms have numerous applications in natural language processing, computer vision, and other areas of deep learning. They enable models to:\n",
      "\n",
      "* Focus on specific parts of the input data that are relevant for making predictions\n",
      "* Handle long-range dependencies and contextual information\n",
      "* Improve model performance by selectively weighting different input elements\n",
      "\n",
      "**Benefits of Attention**\n",
      "\n",
      "Attention provides several benefits in transformer models, including:\n",
      "\n",
      "* **Improved accuracy**: By focusing on relevant input elements, attention mechanisms can improve model accuracy and reduce errors.\n",
      "* **Increased efficiency**: Attention allows models to selectively process input data, reducing computational complexity and improving inference speed.\n",
      "* **Better handling of long-range dependencies**: Self-attention mechanisms can capture long-range relationships between input elements, enabling models to better understand complex patterns in data.\n",
      "\n",
      "**Conclusion**\n",
      "\n",
      "In conclusion, attention is a fundamental concept in deep learning that enables models to focus on specific parts of the input data that are relevant for making predictions. Self-attention mechanisms, in particular, allow models to selectively weigh different input elements based on their relationships with other elements. By understanding how attention works and its benefits, we can design more effective models that better capture complex patterns and relationships in data.\n",
      "\n",
      "**Example Use Cases**\n",
      "\n",
      "* **Natural Language Processing**: Attention mechanisms are widely used in NLP tasks such as language translation, sentiment analysis, and text summarization.\n",
      "* **Computer Vision**: Self-attention mechanisms have been applied to computer vision tasks such as object detection, image segmentation, and visual question answering.\n",
      "* **Speech Recognition**: Attention mechanisms can improve speech recognition accuracy by selectively focusing on relevant audio features.\n",
      "\n",
      "By incorporating attention mechanisms into transformer models, we can unlock new capabilities in deep learning and achieve state-of-the-art performance in a wide range of applications.\n",
      "\n",
      "==========================================================================================================================================================================================================================================================\n"
     ]
    },
    {
     "name": "stdin",
     "output_type": "stream",
     "text": [
      "\n",
      "Enter your query (type 'exit' to quit): \n",
      " How are they both related?\n"
     ]
    },
    {
     "name": "stdout",
     "output_type": "stream",
     "text": [
      "\n",
      "\n",
      "==========================================================================================================================================================================================================================================================\n",
      "\n",
      "AI Assistant: \n",
      "\n",
      "**Understanding Attention Mechanisms in Deep Learning**\n",
      "\n",
      "Attention mechanisms are a fundamental concept in deep learning that enable models to focus on specific parts of the input data that are relevant for making predictions. In this explanation, we will delve into how attention mechanisms work, their applications, benefits, limitations, and potential areas for improvement.\n",
      "\n",
      "**What is Attention in Deep Learning?**\n",
      "\n",
      "Attention is a mechanism that allows models to selectively focus on specific elements within an input sequence. This is particularly useful in tasks such as language translation, sentiment analysis, and text summarization, where the model needs to identify the most relevant information from the input data.\n",
      "\n",
      "**Self-Attention Mechanism**\n",
      "\n",
      "The self-attention mechanism is a type of attention mechanism that focuses on the relationships between different elements within an input sequence. It works by computing the similarity between all pairs of elements using a dot product and weighting them accordingly to produce a weighted sum of the input elements.\n",
      "\n",
      "Here's a simplified example of how the self-attention mechanism works:\n",
      "\n",
      "1.  Compute the similarity between all pairs of elements using a dot product.\n",
      "2.  Weight the similarities using a softmax function to produce a probability distribution over the input elements.\n",
      "3.  Compute the weighted sum of the input elements using the probability distribution.\n",
      "\n",
      "**Visualizing Attention**\n",
      "\n",
      "To help illustrate how attention mechanisms work, consider the following analogy: Imagine you're on a scenic hike, and you want to find the most interesting features along the way. You can use your senses (e.g., sight, sound) to focus on specific aspects of your surroundings that catch your attention.\n",
      "\n",
      "Similarly, self-attention mechanisms in transformer models allow them to selectively focus on relevant input elements based on their relationships with other elements.\n",
      "\n",
      "**Real-World Applications**\n",
      "\n",
      "Attention mechanisms have numerous applications in natural language processing, computer vision, and speech recognition. Here are a few examples:\n",
      "\n",
      "*   **Language Translation**: Attention mechanisms are widely used in language translation tasks to focus on specific words or phrases that are relevant for translation.\n",
      "    *   For example, the Google Translate model uses attention mechanisms to focus on specific words or phrases that are relevant for translation, such as \"hello\" and \"goodbye\".\n",
      "*   **Sentiment Analysis**: Attention mechanisms are used in sentiment analysis tasks to focus on specific features of the input text that are relevant for sentiment classification.\n",
      "    *   For example, a study published in the Journal of Natural Language Processing found that attention mechanisms can improve sentiment analysis accuracy by focusing on specific words or phrases that are relevant for sentiment classification.\n",
      "*   **Text Summarization**: Attention mechanisms are used in text summarization tasks to focus on specific sentences or phrases that are relevant for summary generation.\n",
      "    *   For example, a study published in the Journal of Artificial Intelligence Research found that attention mechanisms can improve text summarization accuracy by focusing on specific sentences or phrases that are relevant for summary generation.\n",
      "\n",
      "**Benefits and Limitations**\n",
      "\n",
      "Attention mechanisms have several benefits, including:\n",
      "\n",
      "*   Improved model accuracy: By focusing on relevant input elements, attention mechanisms can improve model accuracy and reduce errors.\n",
      "*   Increased efficiency: Attention mechanisms allow models to selectively process input data, reducing computational complexity and improving inference speed.\n",
      "\n",
      "However, attention mechanisms also have some limitations, including:\n",
      "\n",
      "*   Handling long-range dependencies: Self-attention mechanisms can struggle with handling long-range dependencies in the input sequence.\n",
      "    *   For example, a study published in the Journal of Machine Learning Research found that self-attention mechanisms can struggle to handle long-range dependencies in text data.\n",
      "*   Improving efficiency: While attention mechanisms can improve inference speed, they can also increase computational complexity if not implemented efficiently.\n",
      "\n",
      "**Potential Areas for Improvement**\n",
      "\n",
      "There are several potential areas for improvement in attention mechanisms, including:\n",
      "\n",
      "*   **Improving efficiency**: Researchers have proposed various techniques to improve the efficiency of self-attention mechanisms, such as using hierarchical attention or parallelizing the computation.\n",
      "    *   For example, a study published in the Journal of Machine Learning Research found that hierarchical attention can improve the efficiency of self-attention mechanisms by reducing computational complexity.\n",
      "*   **Handling long-range dependencies**: Researchers have proposed various techniques to handle long-range dependencies in self-attention mechanisms, such as using graph neural networks or attention-based models.\n",
      "    *   For example, a study published in the Journal of Artificial Intelligence Research found that graph neural networks can improve the ability of self-attention mechanisms to handle long-range dependencies.\n",
      "\n",
      "**Conclusion**\n",
      "\n",
      "Attention mechanisms are a powerful tool for deep learning models, allowing them to selectively focus on relevant input elements and improve accuracy and efficiency. By understanding how attention mechanisms work and their applications, we can gain a deeper understanding of their potential benefits and limitations.\n",
      "\n",
      "==========================================================================================================================================================================================================================================================\n"
     ]
    }
   ],
   "source": [
    "# Step 9: Run the Workflow\n",
    "def run_workflow(state: OverallState, query: str) -> str:\n",
    "    \"\"\"\n",
    "    Execute the LangGraph workflow dynamically.\n",
    "\n",
    "    Args:\n",
    "        state (OverallState): The persistent state object.\n",
    "        query (str): The user's query to process.\n",
    "\n",
    "    Returns:\n",
    "        str: The final assistant response.\n",
    "    \"\"\"\n",
    "    # Update the state with the new query\n",
    "    state[\"query\"] = query\n",
    "    state[\"messages\"].append({\"role\": \"user\", \"content\": query})\n",
    "    \n",
    "    state[\"temp_response\"] = \"\"  # Clear temp response for the new query\n",
    "\n",
    "     # Step 1: Determine intent\n",
    "    state = interpreter_node(state)\n",
    "\n",
    "    if state[\"temp_response\"] == \"greeting\":\n",
    "        # Handle greeting intent\n",
    "        state = greeting_response_node(state)\n",
    "        \n",
    "        return state[\"temp_response\"]\n",
    "\n",
    "    elif state[\"temp_response\"] == \"rag_request\":\n",
    "        # Handle RAG (Retrieval-Augmented Generation) request intent\n",
    "        state = retrieve_documents_node(state)\n",
    "        state = generate_multiple_paths_and_check_consistency_node(state)\n",
    "\n",
    "        # Self-reflection step\n",
    "        state = self_reflection_node(state)\n",
    "\n",
    "        # Post-processing step\n",
    "        state = post_processing_node(state)\n",
    "        \n",
    "        return state[\"messages\"][-1][\"content\"]\n",
    "\n",
    "    else:\n",
    "        raise ValueError(\"Unexpected intent classification result.\")\n",
    "\n",
    "\n",
    "\n",
    "# Main Loop\n",
    "if __name__ == \"__main__\":\n",
    "\n",
    "    # Initialize state\n",
    "    state = OverallState(\n",
    "        query = \"\",\n",
    "        messages = [],\n",
    "        full_query = \"\",\n",
    "        document_context = \"\",\n",
    "        temp_response = \"\"\n",
    "    )\n",
    "    \n",
    "    while True:\n",
    "        print(\"=\" * 250)\n",
    "#        print(\"\\nAI Assistant: \\n\")\n",
    "        user_input = input(\"\\nEnter your query (type 'exit' to quit): \\n\")\n",
    "        if user_input.lower() == \"exit\":\n",
    "            print(\"\\n\")\n",
    "            print(\"=\" * 250)\n",
    "            print(\"\\nAI Assistant: \\n\")\n",
    "            print(\"Goodbye! \\n\")\n",
    "            break\n",
    "        response = run_workflow(state, user_input)\n",
    "        print(\"\\n\")\n",
    "        print(\"=\" * 250)\n",
    "        print(f\"\\nAI Assistant: \\n\\n{response}\\n\")\n"
   ]
  },
  {
   "cell_type": "code",
   "execution_count": null,
   "id": "17bad0ad-6ac8-4c25-89c1-6d48041537e6",
   "metadata": {},
   "outputs": [],
   "source": []
  },
  {
   "cell_type": "code",
   "execution_count": null,
   "id": "f21b8435-1d05-466b-95b9-5e6da583dac4",
   "metadata": {},
   "outputs": [],
   "source": []
  },
  {
   "cell_type": "code",
   "execution_count": null,
   "id": "297349e0-c1b1-49f6-b1f7-9effd0d55620",
   "metadata": {},
   "outputs": [],
   "source": []
  },
  {
   "cell_type": "code",
   "execution_count": null,
   "id": "ca10d532-e7c5-44e9-9c45-33193ac425ec",
   "metadata": {},
   "outputs": [],
   "source": []
  },
  {
   "cell_type": "code",
   "execution_count": null,
   "id": "3bbfc205-586b-454a-811f-c556d1b7ef6a",
   "metadata": {},
   "outputs": [],
   "source": [
    "/////////"
   ]
  },
  {
   "cell_type": "code",
   "execution_count": null,
   "id": "a769c455-b5e2-40ce-8648-65021bbf8816",
   "metadata": {},
   "outputs": [],
   "source": [
    "TESTING"
   ]
  },
  {
   "cell_type": "code",
   "execution_count": null,
   "id": "f63a45e7-f57e-4d5e-8ebb-3902b1551f88",
   "metadata": {},
   "outputs": [],
   "source": [
    "+++"
   ]
  },
  {
   "cell_type": "code",
   "execution_count": 7,
   "id": "4e48e329-312e-4099-9a14-1303cd82ec12",
   "metadata": {
    "scrolled": true
   },
   "outputs": [
    {
     "name": "stdout",
     "output_type": "stream",
     "text": [
      "==========================================================================================================================================================================================================================================================\n"
     ]
    },
    {
     "name": "stdin",
     "output_type": "stream",
     "text": [
      "\n",
      "Enter your query (type 'exit' to quit): \n",
      " Hello\n"
     ]
    },
    {
     "name": "stdout",
     "output_type": "stream",
     "text": [
      "\n",
      "\n",
      "==========================================================================================================================================================================================================================================================\n",
      "\n",
      "AI Assistant: \n",
      "\n",
      "Hello! It's nice to meet you. How can I assist you today? Do you have a specific question, need help with something, or just want to chat? I'm here to listen and provide assistance. What's on your mind?\n",
      "\n",
      "Messages: \n",
      "[{'role': 'user', 'content': 'Hello'}, {'role': 'assistant', 'content': \"Hello! It's nice to meet you. How can I assist you today? Do you have a specific question, need help with something, or just want to chat? I'm here to listen and provide assistance. What's on your mind?\"}]\n",
      "\n",
      "Full Query: \n",
      "\n",
      "==========================================================================================================================================================================================================================================================\n"
     ]
    },
    {
     "name": "stdin",
     "output_type": "stream",
     "text": [
      "\n",
      "Enter your query (type 'exit' to quit): \n",
      " What are transformers?\n"
     ]
    },
    {
     "name": "stdout",
     "output_type": "stream",
     "text": [
      "\n",
      "\n",
      "==========================================================================================================================================================================================================================================================\n",
      "\n",
      "AI Assistant: \n",
      "\n",
      "**Transformers: A Revolutionary Neural Network Architecture for Natural Language Processing**\n",
      "\n",
      "Transformers are a type of neural network architecture that has revolutionized the field of Natural Language Processing (NLP). Introduced in 2017 by Vaswani et al. in their paper \"Attention is All You Need,\" transformers have become a cornerstone of modern NLP applications.\n",
      "\n",
      "**Key Concepts: Understanding Self-Attention**\n",
      "\n",
      "The core innovation behind transformers lies in the self-attention mechanism, which allows the model to weigh the importance of different input elements relative to each other. This is achieved through a set of learnable weights that are computed based on the similarity between different input sequences.\n",
      "\n",
      "**How Transformers Work**\n",
      "\n",
      "Transformers were designed to parallelize computations across multiple attention heads, making them much faster and more efficient than traditional Recurrent Neural Networks (RNNs). Here's an overview of how they work:\n",
      "\n",
      "1. **Input Embeddings**: The input text is first embedded into a high-dimensional space using an embedding layer.\n",
      "2. **Self-Attention Mechanism**: The self-attention mechanism is applied to the input embeddings, allowing the model to weigh the importance of different input elements relative to each other.\n",
      "3. **Output**: The output of the self-attention mechanism is then passed through a feed-forward network (FFN) and another set of linear layers.\n",
      "\n",
      "**Limitations and Challenges**\n",
      "\n",
      "While transformers have shown remarkable success in various NLP tasks, they also come with some limitations:\n",
      "\n",
      "1. **Vulnerability to Adversarial Attacks**: Transformers are vulnerable to adversarial attacks, which can manipulate the input text to cause the model to produce incorrect outputs.\n",
      "2. **Computational Cost**: While transformers are faster than traditional RNNs in some cases, they also require more computational resources and memory.\n",
      "\n",
      "**Applications and Success Stories**\n",
      "\n",
      "Transformers have been widely adopted for various NLP tasks, including:\n",
      "\n",
      "1. **Language Translation**: Transformers have achieved state-of-the-art results on many language translation benchmarks.\n",
      "2. **Text Classification**: Transformers can be used for text classification tasks, such as sentiment analysis and spam detection.\n",
      "3. **Question Answering**: Transformers have also been applied to question answering tasks, where the model needs to identify relevant passages from a large corpus.\n",
      "\n",
      "**Conclusion**\n",
      "\n",
      "Transformers are a powerful neural network architecture that has revolutionized the field of NLP. By understanding how they work and their limitations, we can design more efficient and effective models for various NLP tasks. As research continues to advance, we can expect transformers to play an increasingly important role in shaping the future of NLP applications.\n",
      "\n",
      "Messages: \n",
      "[{'role': 'user', 'content': 'Hello'}, {'role': 'assistant', 'content': \"Hello! It's nice to meet you. How can I assist you today? Do you have a specific question, need help with something, or just want to chat? I'm here to listen and provide assistance. What's on your mind?\"}, {'role': 'user', 'content': 'What are transformers?'}, {'role': 'assistant', 'content': '**Transformers: A Revolutionary Neural Network Architecture for Natural Language Processing**\\n\\nTransformers are a type of neural network architecture that has revolutionized the field of Natural Language Processing (NLP). Introduced in 2017 by Vaswani et al. in their paper \"Attention is All You Need,\" transformers have become a cornerstone of modern NLP applications.\\n\\n**Key Concepts: Understanding Self-Attention**\\n\\nThe core innovation behind transformers lies in the self-attention mechanism, which allows the model to weigh the importance of different input elements relative to each other. This is achieved through a set of learnable weights that are computed based on the similarity between different input sequences.\\n\\n**How Transformers Work**\\n\\nTransformers were designed to parallelize computations across multiple attention heads, making them much faster and more efficient than traditional Recurrent Neural Networks (RNNs). Here\\'s an overview of how they work:\\n\\n1. **Input Embeddings**: The input text is first embedded into a high-dimensional space using an embedding layer.\\n2. **Self-Attention Mechanism**: The self-attention mechanism is applied to the input embeddings, allowing the model to weigh the importance of different input elements relative to each other.\\n3. **Output**: The output of the self-attention mechanism is then passed through a feed-forward network (FFN) and another set of linear layers.\\n\\n**Limitations and Challenges**\\n\\nWhile transformers have shown remarkable success in various NLP tasks, they also come with some limitations:\\n\\n1. **Vulnerability to Adversarial Attacks**: Transformers are vulnerable to adversarial attacks, which can manipulate the input text to cause the model to produce incorrect outputs.\\n2. **Computational Cost**: While transformers are faster than traditional RNNs in some cases, they also require more computational resources and memory.\\n\\n**Applications and Success Stories**\\n\\nTransformers have been widely adopted for various NLP tasks, including:\\n\\n1. **Language Translation**: Transformers have achieved state-of-the-art results on many language translation benchmarks.\\n2. **Text Classification**: Transformers can be used for text classification tasks, such as sentiment analysis and spam detection.\\n3. **Question Answering**: Transformers have also been applied to question answering tasks, where the model needs to identify relevant passages from a large corpus.\\n\\n**Conclusion**\\n\\nTransformers are a powerful neural network architecture that has revolutionized the field of NLP. By understanding how they work and their limitations, we can design more efficient and effective models for various NLP tasks. As research continues to advance, we can expect transformers to play an increasingly important role in shaping the future of NLP applications.'}]\n",
      "\n",
      "Full Query: \n",
      "User: Hello\n",
      "Assistant: Hello! It's nice to meet you. How can I assist you today? Do you have a specific question, need help with something, or just want to chat? I'm here to listen and provide assistance. What's on your mind?\n",
      "User: What are transformers?\n",
      "Assistant: **Transformers: A Revolutionary Neural Network Architecture for Natural Language Processing**\n",
      "\n",
      "Transformers are a type of neural network architecture that has revolutionized the field of Natural Language Processing (NLP). Introduced in 2017 by Vaswani et al. in their paper \"Attention is All You Need,\" transformers have become a cornerstone of modern NLP applications.\n",
      "\n",
      "**Key Concepts: Understanding Self-Attention**\n",
      "\n",
      "The core innovation behind transformers lies in the self-attention mechanism, which allows the model to weigh the importance of different input elements relative to each other. This is achieved through a set of learnable weights that are computed based on the similarity between different input sequences.\n",
      "\n",
      "**How Transformers Work**\n",
      "\n",
      "Transformers were designed to parallelize computations across multiple attention heads, making them much faster and more efficient than traditional Recurrent Neural Networks (RNNs). Here's an overview of how they work:\n",
      "\n",
      "1. **Input Embeddings**: The input text is first embedded into a high-dimensional space using an embedding layer.\n",
      "2. **Self-Attention Mechanism**: The self-attention mechanism is applied to the input embeddings, allowing the model to weigh the importance of different input elements relative to each other.\n",
      "3. **Output**: The output of the self-attention mechanism is then passed through a feed-forward network (FFN) and another set of linear layers.\n",
      "\n",
      "**Limitations and Challenges**\n",
      "\n",
      "While transformers have shown remarkable success in various NLP tasks, they also come with some limitations:\n",
      "\n",
      "1. **Vulnerability to Adversarial Attacks**: Transformers are vulnerable to adversarial attacks, which can manipulate the input text to cause the model to produce incorrect outputs.\n",
      "2. **Computational Cost**: While transformers are faster than traditional RNNs in some cases, they also require more computational resources and memory.\n",
      "\n",
      "**Applications and Success Stories**\n",
      "\n",
      "Transformers have been widely adopted for various NLP tasks, including:\n",
      "\n",
      "1. **Language Translation**: Transformers have achieved state-of-the-art results on many language translation benchmarks.\n",
      "2. **Text Classification**: Transformers can be used for text classification tasks, such as sentiment analysis and spam detection.\n",
      "3. **Question Answering**: Transformers have also been applied to question answering tasks, where the model needs to identify relevant passages from a large corpus.\n",
      "\n",
      "**Conclusion**\n",
      "\n",
      "Transformers are a powerful neural network architecture that has revolutionized the field of NLP. By understanding how they work and their limitations, we can design more efficient and effective models for various NLP tasks. As research continues to advance, we can expect transformers to play an increasingly important role in shaping the future of NLP applications.\n",
      "==========================================================================================================================================================================================================================================================\n"
     ]
    },
    {
     "name": "stdin",
     "output_type": "stream",
     "text": [
      "\n",
      "Enter your query (type 'exit' to quit): \n",
      " exit\n"
     ]
    },
    {
     "name": "stdout",
     "output_type": "stream",
     "text": [
      "==========================================================================================================================================================================================================================================================\n",
      "\n",
      "AI Assistant: \n",
      "\n",
      "Goodbye! \n",
      "\n"
     ]
    }
   ],
   "source": [
    "# Step 9: Run the Workflow\n",
    "def run_workflow(state: OverallState, query: str) -> str:\n",
    "    \"\"\"\n",
    "    Execute the LangGraph workflow dynamically.\n",
    "\n",
    "    Args:\n",
    "        state (OverallState): The persistent state object.\n",
    "        query (str): The user's query to process.\n",
    "\n",
    "    Returns:\n",
    "        str: The final assistant response.\n",
    "    \"\"\"\n",
    "    # Update the state with the new query\n",
    "    state[\"query\"] = query\n",
    "    state[\"messages\"].append({\"role\": \"user\", \"content\": query})\n",
    "    state[\"temp_response\"] = \"\"  # Clear temp response for the new query\n",
    "\n",
    "     # Step 1: Determine intent\n",
    "    state = interpreter_node(state)\n",
    "\n",
    "    if state[\"temp_response\"] == \"greeting\":\n",
    "        # Handle greeting intent\n",
    "        state = greeting_response_node(state)\n",
    "        \n",
    "        return state[\"temp_response\"], state[\"messages\"], state[\"full_query\"]\n",
    "\n",
    "    elif state[\"temp_response\"] == \"rag_request\":\n",
    "        # Handle RAG (Retrieval-Augmented Generation) request intent\n",
    "        state = retrieve_documents_node(state)\n",
    "        state = generate_multiple_paths_and_check_consistency_node(state)\n",
    "\n",
    "        # Self-reflection step\n",
    "        state = self_reflection_node(state)\n",
    "\n",
    "        # Post-processing step\n",
    "        state = post_processing_node(state)\n",
    "        \n",
    "        return state[\"messages\"][-1][\"content\"], state[\"messages\"], state[\"full_query\"]\n",
    "\n",
    "    else:\n",
    "        raise ValueError(\"Unexpected intent classification result.\")\n",
    "\n",
    "\n",
    "\n",
    "# Main Loop\n",
    "if __name__ == \"__main__\":\n",
    "\n",
    "    # Initialize state\n",
    "    state = OverallState(\n",
    "        query=\"\",\n",
    "        messages=[],\n",
    "        full_query=\"\",\n",
    "        document_context=\"\",\n",
    "        temp_response=\"\"\n",
    "    )\n",
    "    \n",
    "    while True:\n",
    "        print(\"=\" * 250)\n",
    "#        print(\"\\nAI Assistant: \\n\")\n",
    "        user_input = input(\"\\nEnter your query (type 'exit' to quit): \\n\")\n",
    "        if user_input.lower() == \"exit\":\n",
    "            print(\"\\n\")\n",
    "            print(\"=\" * 250)\n",
    "            print(\"\\nAI Assistant: \\n\")\n",
    "            print(\"Goodbye! \\n\")\n",
    "            break\n",
    "        response, msgs, FQ = run_workflow(state, user_input)\n",
    "        print(\"\\n\")\n",
    "        print(\"=\" * 250)\n",
    "        print(f\"\\nAI Assistant: \\n\\n{response}\\n\\nMessages: \\n\\n{msgs}\\n\\nFull Query: \\n\\n{FQ}\\n\")\n"
   ]
  },
  {
   "cell_type": "code",
   "execution_count": null,
   "id": "94911044-5770-4a1b-8cdf-95c6d8c22933",
   "metadata": {},
   "outputs": [],
   "source": [
    "+++"
   ]
  },
  {
   "cell_type": "code",
   "execution_count": null,
   "id": "5d7b3dc3-79da-4694-8328-70276c5e9152",
   "metadata": {},
   "outputs": [],
   "source": [
    "W Messages & FullQuery"
   ]
  },
  {
   "cell_type": "code",
   "execution_count": null,
   "id": "6e82ad28-2a93-4ada-a391-5644ab2b7267",
   "metadata": {},
   "outputs": [],
   "source": [
    "+++"
   ]
  },
  {
   "cell_type": "code",
   "execution_count": 22,
   "id": "5e3fef31-439b-4081-8974-934c2ea03d02",
   "metadata": {},
   "outputs": [
    {
     "name": "stdout",
     "output_type": "stream",
     "text": [
      "============================================================================================================================================================================================================================================================================================================\n",
      "\n",
      "AI Assistant: \n",
      "\n"
     ]
    },
    {
     "name": "stdin",
     "output_type": "stream",
     "text": [
      "Enter your query (type 'exit' to quit): \n",
      " What are transformers?\n"
     ]
    },
    {
     "name": "stdout",
     "output_type": "stream",
     "text": [
      "============================================================================================================================================================================================================================================================================================================\n",
      "\n",
      "AI Assistant: \n",
      "\n",
      "**What are Transformers?**\n",
      "\n",
      "Transformers are a type of neural network architecture that has revolutionized the field of natural language processing (NLP). They were first introduced in 2017 by Vaswani et al. in their paper \"Attention is All You Need.\" In this explanation, we'll delve into what transformers are, how they work, and their key benefits.\n",
      "\n",
      "**What do Transformers Do?**\n",
      "\n",
      "Imagine you're trying to understand a conversation between two people who speak different languages. A traditional approach would be to translate each sentence individually, which can lead to errors and loss of context. Transformers take a different approach by using self-attention mechanisms to weigh the importance of each word in the input sequence relative to every other word.\n",
      "\n",
      "**How do Transformers Work?**\n",
      "\n",
      "The core component of a transformer is called an encoder layer. Each encoder layer consists of two sub-layers: self-attention and feed-forward neural network (FFNN). The self-attention mechanism allows the model to attend to different parts of the input sequence simultaneously, weighing their importance relative to each other.\n",
      "\n",
      "For example, consider the following sentence: \"The dog chased the cat.\" A transformer would break this sentence down into individual words and then use self-attention mechanisms to determine how important each word is in relation to every other word. The output would be a weighted sum of the input words, where the weights represent the importance of each word relative to every other word.\n",
      "\n",
      "**Key Benefits of Transformers:**\n",
      "\n",
      "1. **Self-Attention Mechanisms**: Transformers use self-attention mechanisms to capture long-term dependencies in the input sequence, which is particularly useful for NLP tasks.\n",
      "2. **Parallelizability**: While parallelizability is an important aspect of transformers, it's not as critical as their ability to capture long-term dependencies using self-attention mechanisms.\n",
      "\n",
      "**Real-World Applications:**\n",
      "\n",
      "Transformers have been successfully applied to various NLP tasks, including:\n",
      "\n",
      "* Machine translation\n",
      "* Text summarization\n",
      "* Sentiment analysis\n",
      "\n",
      "**Conclusion:**\n",
      "\n",
      "In conclusion, transformers are a powerful neural network architecture that has revolutionized the field of natural language processing. Their ability to capture long-term dependencies using self-attention mechanisms makes them particularly useful for NLP tasks. By understanding how transformers work and their key benefits, you can unlock the full potential of these models in your own projects.\n",
      "\n",
      "**Additional Resources:**\n",
      "\n",
      "For further learning, we recommend checking out the original paper by Vaswani et al., \"Attention is All You Need,\" as well as online courses and tutorials that cover transformer architecture.\n",
      "\n",
      "Messages: \n",
      "[{'role': 'assistant', 'content': '**What are Transformers?**\\n\\nTransformers are a type of neural network architecture that has revolutionized the field of natural language processing (NLP). They were first introduced in 2017 by Vaswani et al. in their paper \"Attention is All You Need.\" In this explanation, we\\'ll delve into what transformers are, how they work, and their key benefits.\\n\\n**What do Transformers Do?**\\n\\nImagine you\\'re trying to understand a conversation between two people who speak different languages. A traditional approach would be to translate each sentence individually, which can lead to errors and loss of context. Transformers take a different approach by using self-attention mechanisms to weigh the importance of each word in the input sequence relative to every other word.\\n\\n**How do Transformers Work?**\\n\\nThe core component of a transformer is called an encoder layer. Each encoder layer consists of two sub-layers: self-attention and feed-forward neural network (FFNN). The self-attention mechanism allows the model to attend to different parts of the input sequence simultaneously, weighing their importance relative to each other.\\n\\nFor example, consider the following sentence: \"The dog chased the cat.\" A transformer would break this sentence down into individual words and then use self-attention mechanisms to determine how important each word is in relation to every other word. The output would be a weighted sum of the input words, where the weights represent the importance of each word relative to every other word.\\n\\n**Key Benefits of Transformers:**\\n\\n1. **Self-Attention Mechanisms**: Transformers use self-attention mechanisms to capture long-term dependencies in the input sequence, which is particularly useful for NLP tasks.\\n2. **Parallelizability**: While parallelizability is an important aspect of transformers, it\\'s not as critical as their ability to capture long-term dependencies using self-attention mechanisms.\\n\\n**Real-World Applications:**\\n\\nTransformers have been successfully applied to various NLP tasks, including:\\n\\n* Machine translation\\n* Text summarization\\n* Sentiment analysis\\n\\n**Conclusion:**\\n\\nIn conclusion, transformers are a powerful neural network architecture that has revolutionized the field of natural language processing. Their ability to capture long-term dependencies using self-attention mechanisms makes them particularly useful for NLP tasks. By understanding how transformers work and their key benefits, you can unlock the full potential of these models in your own projects.\\n\\n**Additional Resources:**\\n\\nFor further learning, we recommend checking out the original paper by Vaswani et al., \"Attention is All You Need,\" as well as online courses and tutorials that cover transformer architecture.'}]\n",
      "\n",
      "Full Query: \n",
      "What are transformers?\n",
      "============================================================================================================================================================================================================================================================================================================\n",
      "\n",
      "AI Assistant: \n",
      "\n"
     ]
    },
    {
     "name": "stdin",
     "output_type": "stream",
     "text": [
      "Enter your query (type 'exit' to quit): \n",
      " What is attention?\n"
     ]
    },
    {
     "name": "stdout",
     "output_type": "stream",
     "text": [
      "============================================================================================================================================================================================================================================================================================================\n",
      "\n",
      "AI Assistant: \n",
      "\n",
      "**Understanding Attention in Natural Language Processing**\n",
      "\n",
      "Attention is a fundamental concept in Natural Language Processing (NLP) that enables models to focus on specific parts of input data that are relevant for a particular task. In NLP, attention is used to weight the importance of different words or tokens in a sentence or document, allowing models to selectively attend to the most informative regions.\n",
      "\n",
      "**How Attention Works**\n",
      "\n",
      "Imagine you're reading a sentence and want to understand its meaning. You might focus on specific words that are relevant to the context, such as \"the\" or \"dog.\" This is similar to how attention works in NLP. The model uses an attention mechanism to weigh the importance of each word in the input data, allowing it to selectively attend to the most informative regions.\n",
      "\n",
      "**Mathematical Operations**\n",
      "\n",
      "The attention mechanism typically involves calculating attention weights using a combination of linear and non-linear transformations. One common approach is to use a self-attention mechanism, which calculates attention weights based on the similarity between different tokens in the input data. The formula for self-attention is:\n",
      "\n",
      "`Attention Weight = softmax((Query * Key) / sqrt(Dimension))`\n",
      "\n",
      "where `Query`, `Key`, and `Dimension` are learned parameters that capture the relationships between different tokens.\n",
      "\n",
      "**Self-Attention vs. Other Attention Mechanisms**\n",
      "\n",
      "Self-attention is a key innovation in attention mechanisms, as it allows models to attend to all parts of the input data simultaneously. This is in contrast to other attention mechanisms, such as hard attention or soft attention, which focus on specific regions of the input data.\n",
      "\n",
      "**Key Benefits**\n",
      "\n",
      "Attention has several key benefits for NLP tasks, including:\n",
      "\n",
      "* **Improved performance:** Attention enables models to selectively attend to the most informative regions of the input data, leading to improved performance on tasks such as language modeling and machine translation.\n",
      "* **Increased interpretability:** By highlighting the importance of different tokens in the input data, attention provides a more interpretable understanding of how models are making predictions.\n",
      "\n",
      "**Real-World Applications**\n",
      "\n",
      "Attention has numerous real-world applications in NLP, including:\n",
      "\n",
      "* **Language Translation:** Attention is used to selectively attend to specific words or phrases in source and target languages, allowing for more accurate translations.\n",
      "* **Text Summarization:** Attention is used to identify the most important sentences or phrases in a document, enabling the creation of concise summaries.\n",
      "\n",
      "**Conclusion**\n",
      "\n",
      "Attention is a fundamental concept in NLP that enables models to selectively attend to specific parts of input data. By understanding how attention works and its key benefits, we can better appreciate its significance in this field and develop more effective NLP models.\n",
      "\n",
      "Messages: \n",
      "[{'role': 'assistant', 'content': '**Understanding Attention in Natural Language Processing**\\n\\nAttention is a fundamental concept in Natural Language Processing (NLP) that enables models to focus on specific parts of input data that are relevant for a particular task. In NLP, attention is used to weight the importance of different words or tokens in a sentence or document, allowing models to selectively attend to the most informative regions.\\n\\n**How Attention Works**\\n\\nImagine you\\'re reading a sentence and want to understand its meaning. You might focus on specific words that are relevant to the context, such as \"the\" or \"dog.\" This is similar to how attention works in NLP. The model uses an attention mechanism to weigh the importance of each word in the input data, allowing it to selectively attend to the most informative regions.\\n\\n**Mathematical Operations**\\n\\nThe attention mechanism typically involves calculating attention weights using a combination of linear and non-linear transformations. One common approach is to use a self-attention mechanism, which calculates attention weights based on the similarity between different tokens in the input data. The formula for self-attention is:\\n\\n`Attention Weight = softmax((Query * Key) / sqrt(Dimension))`\\n\\nwhere `Query`, `Key`, and `Dimension` are learned parameters that capture the relationships between different tokens.\\n\\n**Self-Attention vs. Other Attention Mechanisms**\\n\\nSelf-attention is a key innovation in attention mechanisms, as it allows models to attend to all parts of the input data simultaneously. This is in contrast to other attention mechanisms, such as hard attention or soft attention, which focus on specific regions of the input data.\\n\\n**Key Benefits**\\n\\nAttention has several key benefits for NLP tasks, including:\\n\\n* **Improved performance:** Attention enables models to selectively attend to the most informative regions of the input data, leading to improved performance on tasks such as language modeling and machine translation.\\n* **Increased interpretability:** By highlighting the importance of different tokens in the input data, attention provides a more interpretable understanding of how models are making predictions.\\n\\n**Real-World Applications**\\n\\nAttention has numerous real-world applications in NLP, including:\\n\\n* **Language Translation:** Attention is used to selectively attend to specific words or phrases in source and target languages, allowing for more accurate translations.\\n* **Text Summarization:** Attention is used to identify the most important sentences or phrases in a document, enabling the creation of concise summaries.\\n\\n**Conclusion**\\n\\nAttention is a fundamental concept in NLP that enables models to selectively attend to specific parts of input data. By understanding how attention works and its key benefits, we can better appreciate its significance in this field and develop more effective NLP models.'}]\n",
      "\n",
      "Full Query: \n",
      "What is attention?\n",
      "============================================================================================================================================================================================================================================================================================================\n",
      "\n",
      "AI Assistant: \n",
      "\n"
     ]
    },
    {
     "name": "stdin",
     "output_type": "stream",
     "text": [
      "Enter your query (type 'exit' to quit): \n",
      " exit\n"
     ]
    },
    {
     "name": "stdout",
     "output_type": "stream",
     "text": [
      "============================================================================================================================================================================================================================================================================================================\n",
      "\n",
      "AI Assistant: \n",
      "\n",
      "Goodbye! \n",
      "\n"
     ]
    }
   ],
   "source": [
    "# Step 9: Run the Workflow\n",
    "def run_workflow(query):\n",
    "    \"\"\"Execute the LangGraph workflow.\"\"\"\n",
    "\n",
    "    # Initialize state\n",
    "    class OverallState(TypedDict):\n",
    "    query: str\n",
    "    messages: list[dict]  # To store all interactions\n",
    "    full_query: str\n",
    "    document_context: str\n",
    "    temp_response: str\n",
    "    \n",
    "    # Step 0: Append Query to Messages\n",
    "    query = query\n",
    "    state[\"messages\"].append({\"role\": \"user\", \"content\": query})\n",
    "\n",
    "    # Step 1: Determine intent\n",
    "    state = interpreter_node(state)\n",
    "\n",
    "    if state[\"temp_response\"] == \"greeting\":\n",
    "        # Handle greeting intent\n",
    "        state = greeting_response_node(state)\n",
    "        \n",
    "        return state[\"temp_response\"], state[\"messages\"], state[\"full_query\"]\n",
    "\n",
    "    elif state[\"temp_response\"] == \"rag_request\":\n",
    "        # Handle RAG (Retrieval-Augmented Generation) request intent\n",
    "        state = retrieve_documents_node(state)\n",
    "        state = generate_multiple_paths_and_check_consistency_node(state)\n",
    "\n",
    "        # Self-reflection step\n",
    "        state = self_reflection_node(state)\n",
    "\n",
    "        # Post-processing step\n",
    "        state = post_processing_node(state)\n",
    "        \n",
    "        return state[\"messages\"][-1][\"content\"], state[\"messages\"], state[\"full_query\"]\n",
    "\n",
    "    else:\n",
    "        raise ValueError(\"Unexpected intent classification result.\")\n",
    "\n",
    "# Main Loop\n",
    "if __name__ == \"__main__\":\n",
    "    while True:\n",
    "        print(\"=\" * 300)\n",
    "        print(\"\\nAI Assistant: \\n\")\n",
    "        user_input = input(\"Enter your query (type 'exit' to quit): \\n\")\n",
    "        if user_input.lower() == \"exit\":\n",
    "            print(\"=\" * 300)\n",
    "            print(\"\\nAI Assistant: \\n\")\n",
    "            print(\"Goodbye! \\n\")\n",
    "            break\n",
    "        response, msgs, FQ = run_workflow(user_input)\n",
    "        print(\"=\" * 300)\n",
    "        print(f\"\\nAI Assistant: \\n\\n{response}\\n\\nMessages: \\n{msgs}\\n\\nFull Query: \\n{FQ}\")\n"
   ]
  },
  {
   "cell_type": "code",
   "execution_count": null,
   "id": "dc445008-08dc-4c32-84bb-7c6e858eff78",
   "metadata": {},
   "outputs": [],
   "source": [
    "+++"
   ]
  },
  {
   "cell_type": "code",
   "execution_count": null,
   "id": "81d7dd32-328e-44c6-b074-3283c886e327",
   "metadata": {},
   "outputs": [],
   "source": []
  },
  {
   "cell_type": "code",
   "execution_count": null,
   "id": "7b7a99aa-ab0b-4d70-9c4c-9fa1ac6c34ec",
   "metadata": {},
   "outputs": [],
   "source": [
    "//////////////////"
   ]
  },
  {
   "cell_type": "code",
   "execution_count": null,
   "id": "9bfb2fbe-a3f2-41d3-8617-d66349f4fcf7",
   "metadata": {},
   "outputs": [],
   "source": [
    "MANUAL EXECUTION"
   ]
  },
  {
   "cell_type": "code",
   "execution_count": null,
   "id": "2033c95d-f57a-4cd2-a54e-ee0aa0670094",
   "metadata": {},
   "outputs": [],
   "source": [
    "//////////////////"
   ]
  },
  {
   "cell_type": "code",
   "execution_count": null,
   "id": "062c7270-421a-44de-b40f-19149d0d360c",
   "metadata": {},
   "outputs": [],
   "source": []
  },
  {
   "cell_type": "code",
   "execution_count": 26,
   "id": "e93884d0-4de3-4993-8c3a-e6808047636b",
   "metadata": {},
   "outputs": [],
   "source": [
    "query = \"What are transformers?\""
   ]
  },
  {
   "cell_type": "code",
   "execution_count": 28,
   "id": "60c6b13a-4525-4763-9942-6e3c6861b2c0",
   "metadata": {
    "scrolled": true
   },
   "outputs": [
    {
     "name": "stdout",
     "output_type": "stream",
     "text": [
      "**Transformers: A Paradigm Shift in Natural Language Processing**\n",
      "\n",
      "Transformers represent a groundbreaking innovation in natural language processing (NLP) tasks, revolutionizing the way we approach sequential data. They depart from traditional Recurrent Neural Networks (RNNs), which struggled with capturing long-term dependencies due to their sequential nature and limited ability to process input sequences simultaneously.\n",
      "\n",
      "**The Self-Attention Mechanism: A Key Innovation**\n",
      "\n",
      "The core innovation of transformers lies in the self-attention mechanism, introduced by Vaswani et al. (2017). This mechanism allows the model to weigh the importance of different input elements relative to each other, enabling it to capture complex relationships between tokens in a sequence. Unlike RNNs, which process input sequences sequentially and rely on recurrent connections to maintain context, transformers use self-attention to jointly attend to all positions in an input sequence simultaneously.\n",
      "\n",
      "**Key Benefits of Transformers**\n",
      "\n",
      "1. **Parallelization**: Transformers can process input sequences in parallel, reducing computational complexity and enabling faster inference times.\n",
      "2. **Long-range Dependencies**: Self-attention mechanisms enable transformers to capture relationships between tokens that are far apart in the input sequence, which is particularly useful for tasks like machine translation and text summarization.\n",
      "\n",
      "**Transformer Architecture**\n",
      "\n",
      "The transformer architecture consists of an encoder-decoder structure, where:\n",
      "\n",
      "* The **encoder** takes in a sequence of tokens and outputs a continuous representation.\n",
      "* The **decoder** generates the output sequence using the attention weights computed by the self-attention mechanism.\n",
      "\n",
      "**How Self-Attention Works**\n",
      "\n",
      "1. Compute attention weights between different input elements based on their similarity.\n",
      "2. Use these attention weights to compute the final output for each token in the input sequence.\n",
      "\n",
      "By leveraging self-attention mechanisms, transformers have become a dominant force in NLP tasks, enabling state-of-the-art performance in applications like language translation, text summarization, and question answering.\n"
     ]
    }
   ],
   "source": [
    "state = OverallState(\n",
    "        query=query,\n",
    "        messages=[],\n",
    "        full_query=\"\",\n",
    "        document_context=\"\",\n",
    "        temp_response=\"\"\n",
    "    ) \n",
    "\n",
    "# Step 1: Determine intent\n",
    "state = interpreter_node(state)\n",
    "\n",
    "if state[\"temp_response\"] == \"greeting\":\n",
    "    # Handle greeting intent\n",
    "    state = greeting_response_node(state)\n",
    "        \n",
    "    print(state[\"temp_response\"])\n",
    "\n",
    "elif state[\"temp_response\"] == \"rag_request\":\n",
    "    # Handle RAG (Retrieval-Augmented Generation) request intent\n",
    "    state = retrieve_documents_node(state)\n",
    "    state = generate_multiple_paths_and_check_consistency_node(state)\n",
    "\n",
    "    # Self-reflection step\n",
    "    state = self_reflection_node(state)\n",
    "\n",
    "    # Post-processing step\n",
    "    state = post_processing_node(state)\n",
    "        \n",
    "    print(state[\"messages\"][-1][\"content\"])        "
   ]
  },
  {
   "cell_type": "code",
   "execution_count": 32,
   "id": "476614d0-ca78-4946-a5d1-60aba2f9b0e2",
   "metadata": {
    "scrolled": true
   },
   "outputs": [
    {
     "name": "stdout",
     "output_type": "stream",
     "text": [
      "[{'role': 'user', 'content': 'What are transformers?'}, {'role': 'assistant', 'content': \"**Critique:**\\n\\nThe original answer provides a good starting point, but it lacks specificity and depth. To improve the answer, we need to address the criticisms mentioned earlier.\\n\\n* The answer is too vague, as it doesn't provide a detailed explanation of how transformers work or their specific architecture.\\n* It relies on prior knowledge of NLP and RNNs, which may not be familiar to everyone.\\n* Self-attention mechanisms are a key component of transformer architectures, but they are not explicitly mentioned.\\n\\n**Improved Answer:**\\n\\nTransformers represent a significant paradigm shift in natural language processing (NLP) tasks. They depart from traditional Recurrent Neural Networks (RNNs), which struggled with capturing long-term dependencies in sequential data due to their sequential nature and limited ability to process input sequences simultaneously.\\n\\nThe core innovation of transformers lies in the self-attention mechanism, introduced by Vaswani et al. (2017). This mechanism allows the model to weigh the importance of different input elements relative to each other, enabling it to capture complex relationships between tokens in a sequence. Unlike RNNs, which process input sequences sequentially and rely on recurrent connections to maintain context, transformers use self-attention to jointly attend to all positions in an input sequence simultaneously.\\n\\nThis allows transformers to:\\n\\n1. **Parallelize computation**: Transformers can process input sequences in parallel, reducing computational complexity and enabling faster inference times.\\n2. **Capture long-range dependencies**: Self-attention mechanisms enable transformers to capture relationships between tokens that are far apart in the input sequence, which is particularly useful for tasks like machine translation and text summarization.\\n\\nThe transformer architecture consists of an encoder-decoder structure, where the encoder takes in a sequence of tokens and outputs a continuous representation, while the decoder generates the output sequence. The self-attention mechanism is used to compute the attention weights between different input elements, which are then used to compute the final output.\\n\\n**Reasoning for changes:**\\n\\n1. **Added specificity**: I provided more details about how transformers work, including the introduction of self-attention mechanisms.\\n2. **Improved clarity**: I rephrased some sentences to make them clearer and easier to understand.\\n3. **Incorporated key concepts**: I explicitly mentioned self-attention mechanisms, which are a crucial component of transformer architectures.\\n\\nOverall, this improved answer provides more depth and specificity about transformers, making it more accurate, relevant, and complete.\"}, {'role': 'assistant', 'content': '**Transformers: A Paradigm Shift in Natural Language Processing**\\n\\nTransformers represent a groundbreaking innovation in natural language processing (NLP) tasks, revolutionizing the way we approach sequential data. They depart from traditional Recurrent Neural Networks (RNNs), which struggled with capturing long-term dependencies due to their sequential nature and limited ability to process input sequences simultaneously.\\n\\n**The Self-Attention Mechanism: A Key Innovation**\\n\\nThe core innovation of transformers lies in the self-attention mechanism, introduced by Vaswani et al. (2017). This mechanism allows the model to weigh the importance of different input elements relative to each other, enabling it to capture complex relationships between tokens in a sequence. Unlike RNNs, which process input sequences sequentially and rely on recurrent connections to maintain context, transformers use self-attention to jointly attend to all positions in an input sequence simultaneously.\\n\\n**Key Benefits of Transformers**\\n\\n1. **Parallelization**: Transformers can process input sequences in parallel, reducing computational complexity and enabling faster inference times.\\n2. **Long-range Dependencies**: Self-attention mechanisms enable transformers to capture relationships between tokens that are far apart in the input sequence, which is particularly useful for tasks like machine translation and text summarization.\\n\\n**Transformer Architecture**\\n\\nThe transformer architecture consists of an encoder-decoder structure, where:\\n\\n* The **encoder** takes in a sequence of tokens and outputs a continuous representation.\\n* The **decoder** generates the output sequence using the attention weights computed by the self-attention mechanism.\\n\\n**How Self-Attention Works**\\n\\n1. Compute attention weights between different input elements based on their similarity.\\n2. Use these attention weights to compute the final output for each token in the input sequence.\\n\\nBy leveraging self-attention mechanisms, transformers have become a dominant force in NLP tasks, enabling state-of-the-art performance in applications like language translation, text summarization, and question answering.'}]\n"
     ]
    }
   ],
   "source": [
    "print(state[\"messages\"])"
   ]
  },
  {
   "cell_type": "code",
   "execution_count": 34,
   "id": "eb6d8fcf-6a8e-489a-994c-aef3fd620303",
   "metadata": {
    "scrolled": true
   },
   "outputs": [
    {
     "name": "stdout",
     "output_type": "stream",
     "text": [
      "{'query': 'What are transformers?', 'messages': [{'role': 'user', 'content': 'What are transformers?'}, {'role': 'assistant', 'content': \"**Critique:**\\n\\nThe original answer provides a good starting point, but it lacks specificity and depth. To improve the answer, we need to address the criticisms mentioned earlier.\\n\\n* The answer is too vague, as it doesn't provide a detailed explanation of how transformers work or their specific architecture.\\n* It relies on prior knowledge of NLP and RNNs, which may not be familiar to everyone.\\n* Self-attention mechanisms are a key component of transformer architectures, but they are not explicitly mentioned.\\n\\n**Improved Answer:**\\n\\nTransformers represent a significant paradigm shift in natural language processing (NLP) tasks. They depart from traditional Recurrent Neural Networks (RNNs), which struggled with capturing long-term dependencies in sequential data due to their sequential nature and limited ability to process input sequences simultaneously.\\n\\nThe core innovation of transformers lies in the self-attention mechanism, introduced by Vaswani et al. (2017). This mechanism allows the model to weigh the importance of different input elements relative to each other, enabling it to capture complex relationships between tokens in a sequence. Unlike RNNs, which process input sequences sequentially and rely on recurrent connections to maintain context, transformers use self-attention to jointly attend to all positions in an input sequence simultaneously.\\n\\nThis allows transformers to:\\n\\n1. **Parallelize computation**: Transformers can process input sequences in parallel, reducing computational complexity and enabling faster inference times.\\n2. **Capture long-range dependencies**: Self-attention mechanisms enable transformers to capture relationships between tokens that are far apart in the input sequence, which is particularly useful for tasks like machine translation and text summarization.\\n\\nThe transformer architecture consists of an encoder-decoder structure, where the encoder takes in a sequence of tokens and outputs a continuous representation, while the decoder generates the output sequence. The self-attention mechanism is used to compute the attention weights between different input elements, which are then used to compute the final output.\\n\\n**Reasoning for changes:**\\n\\n1. **Added specificity**: I provided more details about how transformers work, including the introduction of self-attention mechanisms.\\n2. **Improved clarity**: I rephrased some sentences to make them clearer and easier to understand.\\n3. **Incorporated key concepts**: I explicitly mentioned self-attention mechanisms, which are a crucial component of transformer architectures.\\n\\nOverall, this improved answer provides more depth and specificity about transformers, making it more accurate, relevant, and complete.\"}, {'role': 'assistant', 'content': '**Transformers: A Paradigm Shift in Natural Language Processing**\\n\\nTransformers represent a groundbreaking innovation in natural language processing (NLP) tasks, revolutionizing the way we approach sequential data. They depart from traditional Recurrent Neural Networks (RNNs), which struggled with capturing long-term dependencies due to their sequential nature and limited ability to process input sequences simultaneously.\\n\\n**The Self-Attention Mechanism: A Key Innovation**\\n\\nThe core innovation of transformers lies in the self-attention mechanism, introduced by Vaswani et al. (2017). This mechanism allows the model to weigh the importance of different input elements relative to each other, enabling it to capture complex relationships between tokens in a sequence. Unlike RNNs, which process input sequences sequentially and rely on recurrent connections to maintain context, transformers use self-attention to jointly attend to all positions in an input sequence simultaneously.\\n\\n**Key Benefits of Transformers**\\n\\n1. **Parallelization**: Transformers can process input sequences in parallel, reducing computational complexity and enabling faster inference times.\\n2. **Long-range Dependencies**: Self-attention mechanisms enable transformers to capture relationships between tokens that are far apart in the input sequence, which is particularly useful for tasks like machine translation and text summarization.\\n\\n**Transformer Architecture**\\n\\nThe transformer architecture consists of an encoder-decoder structure, where:\\n\\n* The **encoder** takes in a sequence of tokens and outputs a continuous representation.\\n* The **decoder** generates the output sequence using the attention weights computed by the self-attention mechanism.\\n\\n**How Self-Attention Works**\\n\\n1. Compute attention weights between different input elements based on their similarity.\\n2. Use these attention weights to compute the final output for each token in the input sequence.\\n\\nBy leveraging self-attention mechanisms, transformers have become a dominant force in NLP tasks, enabling state-of-the-art performance in applications like language translation, text summarization, and question answering.'}], 'full_query': 'User: What are transformers?\\nUser: What are transformers?', 'document_context': \"See discussions, stats, and author profiles for this publication at: https://www.researchgate.net/publication/371990120\\nUnderstanding Transformers\\nArticle · April 2023\\nCITATIONS\\n0\\nREADS\\n110\\n1 author:\\nAnkit Hanwate\\nIndian Institute of Technology Bombay\\n2 PUBLICATIONS\\xa0\\xa0\\xa00 CITATIONS\\xa0\\xa0\\xa0\\nSEE PROFILE\\nAll content following this page was uploaded by Ankit Hanwate on 03 July 2023.\\nThe user has requested enhancement of the downloaded file.\\napplied to a wide range of NLP tasks, achieving state -\\nof-the-art performance on many benchmark datasets. \\nAs the field of NLP continues to grow, it is likely that \\ntransformers will continue to play a central role in the \\ndevelopment of new models and applications. \\n \\nACKNOWLEDGMENT \\nI’m grateful to Prof. Amit Sethi for his constant \\nguidance and support throughout the duration of the \\ncourse. I’m thankful to the professor for giving me a \\nopportunity to work on this project. His methods of\\nexplore how transformers work and how they have \\nreplaced RNNs as the go-to model for NLP tasks. \\nA. Recurrent Neural Networks \\nBefore we start with our description of transformers, \\nit's important to understand RNNs, which were the \\ndominant model for NLP tasks prior to the introduction \\nof transformers. RNNs are neural networks that are \\ndesigned to handle sequential data, such as text. They \\nwork by maintaining a hidden st ate that is updated as\\nearlier, which can prevent them from learning long-term \\ndependencies. Transformers do not have this problem, \\nas they use self -attention instead of recurrence as \\nexplained earlier in the article. \\nE. Applications of Transformers \\nTransformers have been applied to a wide range of NLP \\ntasks. With the increase in the computation power of \\nworking devices in today’s world use of transformers \\nhas increased mainly because of the accuracy it \\nprovided in the tasks performed.  They have been\\nD. Advantages of Transformers over RNNs   \\nTransformers have a really good edge over the \\ntraditional Recurrent neural network for NLP tasks. \\nFirst, they are highly parallelizable, allowing them to \\nprocess input sequences more quickly and efficiently. \\nThis makes them ideal for large-scale NLP tasks, such \\nas language translation. \\nSecond, transformers are able to capture long -term \\ndependencies more effectively than RNNs, thanks to the \\nself-attention mechanism. The self -attention\", 'temp_response': \"**Critique:**\\n\\nThe original answer provides a good starting point, but it lacks specificity and depth. To improve the answer, we need to address the criticisms mentioned earlier.\\n\\n* The answer is too vague, as it doesn't provide a detailed explanation of how transformers work or their specific architecture.\\n* It relies on prior knowledge of NLP and RNNs, which may not be familiar to everyone.\\n* Self-attention mechanisms are a key component of transformer architectures, but they are not explicitly mentioned.\\n\\n**Improved Answer:**\\n\\nTransformers represent a significant paradigm shift in natural language processing (NLP) tasks. They depart from traditional Recurrent Neural Networks (RNNs), which struggled with capturing long-term dependencies in sequential data due to their sequential nature and limited ability to process input sequences simultaneously.\\n\\nThe core innovation of transformers lies in the self-attention mechanism, introduced by Vaswani et al. (2017). This mechanism allows the model to weigh the importance of different input elements relative to each other, enabling it to capture complex relationships between tokens in a sequence. Unlike RNNs, which process input sequences sequentially and rely on recurrent connections to maintain context, transformers use self-attention to jointly attend to all positions in an input sequence simultaneously.\\n\\nThis allows transformers to:\\n\\n1. **Parallelize computation**: Transformers can process input sequences in parallel, reducing computational complexity and enabling faster inference times.\\n2. **Capture long-range dependencies**: Self-attention mechanisms enable transformers to capture relationships between tokens that are far apart in the input sequence, which is particularly useful for tasks like machine translation and text summarization.\\n\\nThe transformer architecture consists of an encoder-decoder structure, where the encoder takes in a sequence of tokens and outputs a continuous representation, while the decoder generates the output sequence. The self-attention mechanism is used to compute the attention weights between different input elements, which are then used to compute the final output.\\n\\n**Reasoning for changes:**\\n\\n1. **Added specificity**: I provided more details about how transformers work, including the introduction of self-attention mechanisms.\\n2. **Improved clarity**: I rephrased some sentences to make them clearer and easier to understand.\\n3. **Incorporated key concepts**: I explicitly mentioned self-attention mechanisms, which are a crucial component of transformer architectures.\\n\\nOverall, this improved answer provides more depth and specificity about transformers, making it more accurate, relevant, and complete.\"}\n"
     ]
    }
   ],
   "source": [
    "print(state)"
   ]
  },
  {
   "cell_type": "code",
   "execution_count": 36,
   "id": "c905c426-add4-4440-ae39-3fd38793767a",
   "metadata": {
    "scrolled": true
   },
   "outputs": [
    {
     "name": "stdout",
     "output_type": "stream",
     "text": [
      "**Critique:**\n",
      "\n",
      "The original answer provides a good starting point, but it lacks specificity and depth. To improve the answer, we need to address the criticisms mentioned earlier.\n",
      "\n",
      "* The answer is too vague, as it doesn't provide a detailed explanation of how transformers work or their specific architecture.\n",
      "* It relies on prior knowledge of NLP and RNNs, which may not be familiar to everyone.\n",
      "* Self-attention mechanisms are a key component of transformer architectures, but they are not explicitly mentioned.\n",
      "\n",
      "**Improved Answer:**\n",
      "\n",
      "Transformers represent a significant paradigm shift in natural language processing (NLP) tasks. They depart from traditional Recurrent Neural Networks (RNNs), which struggled with capturing long-term dependencies in sequential data due to their sequential nature and limited ability to process input sequences simultaneously.\n",
      "\n",
      "The core innovation of transformers lies in the self-attention mechanism, introduced by Vaswani et al. (2017). This mechanism allows the model to weigh the importance of different input elements relative to each other, enabling it to capture complex relationships between tokens in a sequence. Unlike RNNs, which process input sequences sequentially and rely on recurrent connections to maintain context, transformers use self-attention to jointly attend to all positions in an input sequence simultaneously.\n",
      "\n",
      "This allows transformers to:\n",
      "\n",
      "1. **Parallelize computation**: Transformers can process input sequences in parallel, reducing computational complexity and enabling faster inference times.\n",
      "2. **Capture long-range dependencies**: Self-attention mechanisms enable transformers to capture relationships between tokens that are far apart in the input sequence, which is particularly useful for tasks like machine translation and text summarization.\n",
      "\n",
      "The transformer architecture consists of an encoder-decoder structure, where the encoder takes in a sequence of tokens and outputs a continuous representation, while the decoder generates the output sequence. The self-attention mechanism is used to compute the attention weights between different input elements, which are then used to compute the final output.\n",
      "\n",
      "**Reasoning for changes:**\n",
      "\n",
      "1. **Added specificity**: I provided more details about how transformers work, including the introduction of self-attention mechanisms.\n",
      "2. **Improved clarity**: I rephrased some sentences to make them clearer and easier to understand.\n",
      "3. **Incorporated key concepts**: I explicitly mentioned self-attention mechanisms, which are a crucial component of transformer architectures.\n",
      "\n",
      "Overall, this improved answer provides more depth and specificity about transformers, making it more accurate, relevant, and complete.\n"
     ]
    }
   ],
   "source": [
    "print(state[\"temp_response\"])"
   ]
  },
  {
   "cell_type": "code",
   "execution_count": null,
   "id": "9f9d975a-566b-4077-b814-09eee88cf1bc",
   "metadata": {},
   "outputs": [],
   "source": []
  },
  {
   "cell_type": "code",
   "execution_count": null,
   "id": "7b420c4b-aee3-4ec2-a4d9-7a514211c74a",
   "metadata": {},
   "outputs": [],
   "source": []
  },
  {
   "cell_type": "code",
   "execution_count": null,
   "id": "4920739c-4a24-46c6-b3d1-46ac49bb4681",
   "metadata": {},
   "outputs": [],
   "source": []
  },
  {
   "cell_type": "code",
   "execution_count": null,
   "id": "166c7729-4c27-4afe-af18-f0f8fd5c6d16",
   "metadata": {},
   "outputs": [],
   "source": []
  },
  {
   "cell_type": "code",
   "execution_count": null,
   "id": "afc95264-01cb-4343-8fc4-c69fc7679ffe",
   "metadata": {},
   "outputs": [],
   "source": []
  },
  {
   "cell_type": "code",
   "execution_count": 59,
   "id": "86872249-f113-4539-9ad1-99153aae53f4",
   "metadata": {},
   "outputs": [
    {
     "data": {
      "text/plain": [
       "'Meditation offers a wide range of benefits for physical, emotional, mental, and spiritual well-being. Some of the most consistent findings include:\\n\\n1.  **Reduced stress and anxiety**: Meditation has been shown to decrease cortisol levels, heart rate, and blood pressure, leading to a sense of calm and relaxation.\\n\\n2.  **Improved sleep quality**: Regular meditation practice can help improve sleep duration, quality, and depth, resulting in better rest and recovery.\\n\\n3.  **Increased focus and productivity**: Meditation can improve attention, concentration, and mental clarity, making it easier to stay focused and productive throughout the day.\\n\\n4.  **Enhanced emotional regulation**: Meditation helps develop emotional awareness, allowing individuals to better manage their emotions and respond to challenging situations more effectively.\\n\\n5.  **Boosted mood and reduced symptoms of depression**: Meditation has been shown to increase feelings of happiness, calmness, and life satisfaction, while reducing symptoms of depression and anxiety.\\n\\n6.  **Improved immune function**: Research has shown that regular meditation practice can strengthen the immune system, leading to fewer illnesses and a lower risk of chronic diseases.\\n\\n7.  **Increased gray matter and reduced age-related cognitive decline**: Meditation has been shown to increase gray matter in areas of the brain associated with attention, emotion regulation, and memory, while reducing age-related cognitive decline.\\n\\n8.  **Enhanced creativity and problem-solving skills**: Meditation can improve creativity, imagination, and problem-solving skills by increasing access to the subconscious mind and promoting novel connections between ideas.\\n\\n9.  **Better relationships and communication skills**: Meditation can improve emotional intelligence, empathy, and communication skills by increasing self-awareness and allowing individuals to respond more effectively to others.\\n\\n10. **Increased sense of purpose and meaning**: Meditation can increase feelings of purpose, meaning, and fulfillment by promoting self-awareness and helping individuals connect with their values and goals.\\n\\nDifferent types of meditation techniques include:\\n\\n*   Mindfulness Meditation\\n*   Loving-Kindness Meditation\\n*   Transcendental Meditation\\n\\nMeditation has various real-life applications in healthcare, education, and business. It is increasingly being used as a complementary therapy for managing chronic pain, anxiety, depression, and stress-related disorders.\\n\\nOverall, meditation offers numerous benefits that can enhance physical, emotional, mental, and spiritual well-being.'"
      ]
     },
     "execution_count": 59,
     "metadata": {},
     "output_type": "execute_result"
    }
   ],
   "source": [
    "response"
   ]
  },
  {
   "cell_type": "code",
   "execution_count": 57,
   "id": "3d32e60c-af90-413e-a952-0b5a013c1ed1",
   "metadata": {},
   "outputs": [],
   "source": [
    "query = \"With the help of meditation, what kind of illnesses or conditions can be assuaged? Give me a list of 10-12 such illnesses/conditions.\"\n",
    "full_query, retrieved_documents = retrieve_documents_node(query)\n",
    "improved_result = generate_multiple_paths_and_check_consistency_node(query, full_query, retrieved_documents)\n",
    "self_reflection = self_reflection_node()\n",
    "refined_result = self_reflection.run(query, improved_result)\n",
    "final_response = post_processing_node(query, refined_result)"
   ]
  },
  {
   "cell_type": "code",
   "execution_count": null,
   "id": "919f38b4-b007-4bb0-a67c-260d7a1eedbe",
   "metadata": {},
   "outputs": [],
   "source": []
  },
  {
   "cell_type": "code",
   "execution_count": null,
   "id": "6e697ec4-f895-4e82-ac0c-60b11eb0cced",
   "metadata": {},
   "outputs": [],
   "source": []
  },
  {
   "cell_type": "code",
   "execution_count": 14,
   "id": "56abbf9e-2203-4b09-a4de-80af5dc714a2",
   "metadata": {},
   "outputs": [
    {
     "ename": "NameError",
     "evalue": "name 'retrieved_documents' is not defined",
     "output_type": "error",
     "traceback": [
      "\u001b[1;31m---------------------------------------------------------------------------\u001b[0m",
      "\u001b[1;31mNameError\u001b[0m                                 Traceback (most recent call last)",
      "Cell \u001b[1;32mIn[14], line 1\u001b[0m\n\u001b[1;32m----> 1\u001b[0m retrieved_documents\n",
      "\u001b[1;31mNameError\u001b[0m: name 'retrieved_documents' is not defined"
     ]
    }
   ],
   "source": [
    "retrieved_documents"
   ]
  },
  {
   "cell_type": "code",
   "execution_count": 16,
   "id": "28be91b1-6ab5-45f8-b8d6-9771f3790c7c",
   "metadata": {},
   "outputs": [
    {
     "ename": "NameError",
     "evalue": "name 'full_query' is not defined",
     "output_type": "error",
     "traceback": [
      "\u001b[1;31m---------------------------------------------------------------------------\u001b[0m",
      "\u001b[1;31mNameError\u001b[0m                                 Traceback (most recent call last)",
      "Cell \u001b[1;32mIn[16], line 1\u001b[0m\n\u001b[1;32m----> 1\u001b[0m full_query\n",
      "\u001b[1;31mNameError\u001b[0m: name 'full_query' is not defined"
     ]
    }
   ],
   "source": [
    "full_query"
   ]
  },
  {
   "cell_type": "code",
   "execution_count": 65,
   "id": "b51593b5-6517-4352-a8ca-aed211f01c11",
   "metadata": {},
   "outputs": [
    {
     "data": {
      "text/plain": [
       "'The most consistent answer among the provided reasoning paths is the third one:\\n\\nBy embracing meditation as a garden therapy, you can cultivate a thriving landscape of physical, emotional, and spiritual well-being.\\n\\nThis answer is the most consistent because it:\\n\\n1. Aligns with the overall theme of using meditation to promote overall well-being.\\n2. Uses a clear and relatable metaphor (gardening) to describe the benefits of meditation.\\n3. Lists specific illnesses or conditions that can be alleviated or managed through meditation, which is in line with the second reasoning path.\\n4. Provides a unique approach by framing meditation as a garden therapy, rather than solely focusing on stress reduction.\\n\\nThe other two paths have some discrepancies:\\n\\nPath 1 has a more general and somewhat vague tone, while Path 2 is more specific and focused on emotional and psychological aspects of illness.\\n\\nTherefore, the third answer is the most consistent because it offers a clear and relatable framework for understanding the benefits of meditation, while also being mindful of the potential limitations and complexities of using meditation as a therapeutic approach.'"
      ]
     },
     "execution_count": 65,
     "metadata": {},
     "output_type": "execute_result"
    }
   ],
   "source": [
    "aggregated_result"
   ]
  },
  {
   "cell_type": "code",
   "execution_count": 67,
   "id": "4f0b77a5-39a3-4d11-9ae8-9f2d39b5f2f1",
   "metadata": {},
   "outputs": [
    {
     "data": {
      "text/plain": [
       "\"The text presents a list of potential illnesses or conditions that may be assuaged with meditation. After analyzing the reasoning paths provided, it appears that the most consistent answer is:\\n\\n1.  **Anxiety Disorders**: Regular meditation practice can reduce symptoms of anxiety by reducing cortisol levels, promoting relaxation response, and enhancing emotional regulation.\\n2.  **Depression**: Meditation improves mood, reduces symptoms, and enhances overall mental health in individuals with depression by increasing production of neurotransmitters like serotonin and dopamine.\\n3.  **Insomnia**: Meditation regulates sleep patterns, improves sleep quality, and increases sleep duration by regulating the body's internal clock and reducing stress and anxiety.\\n4.  **Fibromyalgia**: Meditation reduces chronic pain by promoting relaxation response, enhancing pain tolerance through neural plasticity, and reducing inflammation.\\n5.  **Migraine Management**: Regular meditation practice reduces frequency and severity of migraines by reducing stress and anxiety, promoting relaxation response, and reducing muscle tension.\\n\\nHowever, there are some discrepancies in the text that need to be addressed:\\n\\n*   The list of potential illnesses or conditions has been expanded to include more than 10 conditions. While some of these conditions (such as anxiety disorders, depression, insomnia, fibromyalgia, and migraine management) have a clear connection to meditation benefits, others (such as allergies, asthma, chronic pain management, stress relief, binge eating, cancer, heart disease, high blood pressure, fatigue, substance abuse, and sleep problems) may require more specific evidence or context.\\n*   The text mentions different types of meditation techniques (mindfulness, loving-kindness, and transcendental), but it does not provide information on the most effective type for each condition. This could be an area of further research or exploration.\\n*   While the text emphasizes the importance of consulting a healthcare professional before using meditation as a complementary therapy, it does not provide guidance on how to incorporate meditation into a treatment plan or what specific benefits can be expected from regular practice.\\n\\nTo improve the consistency and accuracy of the answer, the following steps could be taken:\\n\\n1.  **Conduct further research**: Gather more evidence-based information on the effectiveness of meditation for each condition mentioned in the list.\\n2.  **Provide context and clarification**: Offer additional guidance on how to incorporate meditation into a treatment plan and what specific benefits can be expected from regular practice.\\n3.  **Emphasize individual variability**: Acknowledge that each person's experience with meditation can vary significantly due to factors such as prior knowledge, practice consistency, and individual health conditions.\\n\\nBy addressing these discrepancies and providing more detailed information, the text can present a more comprehensive and consistent answer on the potential benefits of meditation for various illnesses or conditions.\""
      ]
     },
     "execution_count": 67,
     "metadata": {},
     "output_type": "execute_result"
    }
   ],
   "source": [
    "improved_result"
   ]
  },
  {
   "cell_type": "code",
   "execution_count": 71,
   "id": "45aa9f35-d9d2-46e3-aa9d-208a5969a2f5",
   "metadata": {},
   "outputs": [
    {
     "data": {
      "text/plain": [
       "\"Meditation has been extensively researched for its potential benefits in alleviating various illnesses and conditions. While individual results may vary, a consistent practice can lead to significant improvements in overall well-being.\\n\\nSome of the most notable conditions that have shown promise with meditation include:\\n\\n1.  **Anxiety Disorders**: Regular meditation practice has been shown to reduce symptoms of anxiety by reducing cortisol levels, promoting relaxation response, and enhancing emotional regulation. A study published in the Journal of Anxiety Disorders found that mindfulness-based stress reduction (MBSR) significantly reduced symptoms of anxiety in patients with anxiety disorders.\\n\\n2.  **Depression**: Meditation improves mood, reduces symptoms, and enhances overall mental health in individuals with depression by increasing production of neurotransmitters like serotonin and dopamine. A meta-analysis published in the Journal of Psychosomatic Research found that mindfulness-based cognitive therapy (MBCT) significantly reduced symptoms of depression in patients with a history of recurrent depression.\\n\\n3.  **Insomnia**: Meditation regulates sleep patterns, improves sleep quality, and increases sleep duration by regulating the body's internal clock and reducing stress and anxiety. A study published in the Journal of Clinical Sleep Medicine found that mindfulness-based stress reduction (MBSR) significantly improved sleep quality in patients with insomnia.\\n\\n4.  **Fibromyalgia**: Meditation reduces chronic pain by promoting relaxation response, enhancing pain tolerance through neural plasticity, and reducing inflammation. A study published in the Journal of Pain Research found that mindfulness-based stress reduction (MBSR) significantly reduced pain levels in patients with fibromyalgia.\\n\\n5.  **Allergies**: While meditation has been shown to reduce symptoms of anxiety and depression in individuals with allergies, further research is needed to determine its specific effects on allergy management. A study published in the Journal of Alternative and Complementary Medicine found that mindfulness-based stress reduction (MBSR) significantly reduced symptoms of allergic rhinitis in patients with seasonal allergies.\\n\\n6.  **Asthma**: Meditation may help reduce stress and anxiety related to asthma, but more evidence is required to confirm its effectiveness in managing asthma symptoms. A study published in the Journal of Clinical Sleep Medicine found that mindfulness-based stress reduction (MBSR) significantly reduced symptoms of asthma in patients with chronic obstructive pulmonary disease (COPD).\\n\\n7.  **Post-Traumatic Stress Disorder (PTSD)**: Meditation has been shown to reduce symptoms of PTSD by promoting relaxation response, enhancing emotional regulation, and reducing hyperarousal. A study published in the Journal of Clinical Psychology found that mindfulness-based stress reduction (MBSR) significantly reduced symptoms of PTSD in patients with combat-related PTSD.\\n\\n8.  **Eating Disorders**: Meditation improves body image, reduces symptoms, and enhances overall mental health in individuals with eating disorders by increasing self-esteem, promoting positive body image, and reducing obsessive thoughts. A study published in the Journal of Clinical Psychology found that mindfulness-based cognitive therapy (MBCT) significantly reduced symptoms of bulimia nervosa in patients with a history of binge-purge episodes.\\n\\n9.  **Addiction**: Meditation reduces cravings, promotes recovery, and enhances overall mental health in individuals with addiction by increasing self-awareness, promoting emotional regulation, and reducing stress and anxiety. A study published in the Journal of Substance Abuse Treatment found that mindfulness-based relapse prevention (MBRP) significantly reduced recidivism rates in patients with substance use disorders.\\n\\n10. **Chronic Pain**: Meditation reduces chronic pain by promoting relaxation response, enhancing pain tolerance through neural plasticity, and reducing inflammation. A study published in the Journal of Pain Research found that mindfulness-based stress reduction (MBSR) significantly reduced pain levels in patients with chronic back pain.\\n\\n11. **Gastrointestinal Disorders**: Meditation improves gut health, reduces symptoms, and enhances overall mental health in individuals with gastrointestinal disorders by increasing gut motility, reducing inflammation, and promoting positive gut-brain axis interactions. A study published in the Journal of Clinical Gastroenterology found that mindfulness-based stress reduction (MBSR) significantly improved symptoms of irritable bowel syndrome (IBS).\\n\\n12. **Autism Spectrum Disorder**: Meditation improves social skills, reduces symptoms, and enhances overall mental health in individuals with autism spectrum disorder by increasing self-awareness, promoting emotional regulation, and reducing anxiety and stress. A study published in the Journal of Autism and Developmental Disorders found that mindfulness-based cognitive therapy (MBCT) significantly improved social skills and reduced symptoms of ADHD in patients with autism spectrum disorder.\\n\\nTo incorporate meditation into a treatment plan, it's essential to consider the following:\\n\\n1.  **Consult a healthcare professional**: Before starting a meditation practice, consult with a healthcare professional to discuss potential benefits and risks.\\n2.  **Choose the right type of meditation**: Select a meditation technique that aligns with your goals and preferences, such as mindfulness, loving-kindness, or transcendental meditation.\\n3.  **Practice regularly**: Establish a consistent meditation practice to experience its full benefits.\\n4.  **Combine with other therapies**: Consider combining meditation with other therapies, such as cognitive-behavioral therapy (CBT) or physical therapy, for optimal results.\\n\\nIndividuals may experience varying levels of success with meditation due to factors such as:\\n\\n1.  **Prior knowledge and experience**: Those with prior knowledge of meditation or mindfulness practices may experience greater benefits.\\n2.  **Practice consistency**: Regular practice is essential to experiencing the full benefits of meditation.\\n3.  **Individual health conditions**: Meditation's effectiveness can be influenced by individual health conditions, such as chronic pain or mental health disorders.\\n\\nBy acknowledging these limitations and providing more detailed information, it's possible to offer a more comprehensive and accurate answer to the original problem/query.\""
      ]
     },
     "execution_count": 71,
     "metadata": {},
     "output_type": "execute_result"
    }
   ],
   "source": [
    "refined_result"
   ]
  },
  {
   "cell_type": "code",
   "execution_count": 47,
   "id": "c49952f3-f729-430d-aba5-18bd969e4ab8",
   "metadata": {},
   "outputs": [
    {
     "data": {
      "text/plain": [
       "'Meditation has been widely recognized as a powerful tool for promoting physical, emotional, and spiritual well-being. By cultivating mindfulness, relaxation, and self-awareness, meditation can help alleviate symptoms of various illnesses and conditions. Here are 12 examples of how meditation can be used therapeutically to manage specific health concerns:\\n\\n1. **Anxiety Disorders**: Meditation reduces symptoms of anxiety by promoting relaxation, reducing rumination, and increasing self-awareness.\\n2. **Chronic Pain**: Meditation decreases chronic pain by activating the parasympathetic nervous system and increasing endorphin production.\\n3. **Depression**: Regular meditation practice reduces symptoms of depression by increasing neurotransmitters like serotonin and dopamine, as well as improving sleep quality.\\n4. **Insomnia**: Guided imagery and progressive muscle relaxation techniques help regulate sleep patterns and improve sleep quality.\\n5. **Post-Traumatic Stress Disorder (PTSD)**: Mindfulness-based stress reduction reduces symptoms of PTSD, including flashbacks and nightmares.\\n6. **Chronic Fatigue Syndrome**: Meditation reduces symptoms of chronic fatigue syndrome, including fatigue, pain, and sleep disturbances.\\n7. **Attention Deficit Hyperactivity Disorder (ADHD)**: Mindfulness meditation improves attention, reduces impulsivity, and enhances executive function skills.\\n8. **Arthritis**: Meditation reduces arthritis pain and inflammation by promoting relaxation and reducing stress.\\n9. **Diabetes**: Regular meditation practice reduces symptoms of diabetes, including blood sugar levels and inflammation.\\n10. **Cancer**: Meditation reduces cancer symptoms, such as pain, fatigue, and anxiety, and improves quality of life.\\n11. **Hypertension**: Mindfulness-based stress reduction lowers blood pressure and improves cardiovascular health.\\n12. **Stress Relief**: Meditation reduces stress by promoting relaxation, reducing rumination, and increasing self-awareness.\\n\\nTo optimize meditation practices:\\n\\n* Aim to meditate at least 3-4 times per week\\n* Start with short sessions (10-20 minutes) and gradually increase duration as you become more comfortable with the practice\\n* Experiment with different types of meditation to find what works best for you\\n* Work with a qualified instructor or healthcare professional to develop a personalized meditation plan\\n\\nBy incorporating mindfulness, relaxation, and self-awareness into our daily lives through meditation, we can reduce symptoms of anxiety, depression, chronic pain, and other health concerns. Regular practice leads to improved sleep quality, cardiovascular health, and overall well-being.'"
      ]
     },
     "execution_count": 47,
     "metadata": {},
     "output_type": "execute_result"
    }
   ],
   "source": [
    "final_response"
   ]
  },
  {
   "cell_type": "code",
   "execution_count": null,
   "id": "fb279c2f-3852-4686-92c9-f5995574b023",
   "metadata": {},
   "outputs": [],
   "source": []
  }
 ],
 "metadata": {
  "kernelspec": {
   "display_name": "Python [conda env:base] *",
   "language": "python",
   "name": "conda-base-py"
  },
  "language_info": {
   "codemirror_mode": {
    "name": "ipython",
    "version": 3
   },
   "file_extension": ".py",
   "mimetype": "text/x-python",
   "name": "python",
   "nbconvert_exporter": "python",
   "pygments_lexer": "ipython3",
   "version": "3.12.7"
  }
 },
 "nbformat": 4,
 "nbformat_minor": 5
}
